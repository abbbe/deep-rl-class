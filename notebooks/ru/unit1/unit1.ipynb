{
  "cells": [
    {
      "cell_type": "markdown",
      "metadata": {
        "id": "njb_ProuHiOe"
      },
      "source": [
        "# Блок 1: Обучение вашего первого агента глубокого обучения с подкреплением 🤖\n",
        "\n",
        "![Обложка](https://huggingface.co/datasets/huggingface-deep-rl-course/course-images/resolve/main/en/unit1/thumbnail.jpg)\n",
        "\n",
        "В этом блокноте вы обучите своего **первого агента глубокого обучения с применением подкрепления** - агента Lunar Lander, который научится **правильно приземляться на Луну 🌕**. Используя [Stable-Baselines3](https://stable-baselines3.readthedocs.io/en/master/) библиотеку Deep Reinforcement Learning, поделитесь ими с сообществом и поэкспериментируйте с различными конфигурациями.\n",
        "\n",
        "⬇️ Вот пример того, чего **вы добьетесь всего за пару минут.** ⬇️"
      ]
    },
    {
      "cell_type": "code",
      "execution_count": null,
      "metadata": {
        "id": "PF46MwbZD00b"
      },
      "outputs": [],
      "source": [
        "%%html\n",
        "<video controls autoplay><source src=\"https://huggingface.co/sb3/ppo-LunarLander-v2/resolve/main/replay.mp4\" type=\"video/mp4\"></video>"
      ]
    },
    {
      "cell_type": "markdown",
      "metadata": {
        "id": "x7oR6R-ZIbeS"
      },
      "source": [
        "### The environment 🎮\n",
        "\n",
        "- [LunarLander-v2](https://gymnasium.farama.org/environments/box2d/lunar_lander/)\n",
        "\n",
        "### The library used 📚\n",
        "\n",
        "- [Stable-Baselines3](https://stable-baselines3.readthedocs.io/en/master/)"
      ]
    },
    {
      "cell_type": "markdown",
      "metadata": {
        "id": "OwEcFHe9RRZW"
      },
      "source": [
        "We're constantly trying to improve our tutorials, so **if you find some issues in this notebook**, please [open an issue on the Github Repo](https://github.com/huggingface/deep-rl-class/issues)."
      ]
    },
    {
      "cell_type": "markdown",
      "metadata": {
        "id": "4i6tjI2tHQ8j"
      },
      "source": [
        "## Objectives of this notebook 🏆\n",
        "\n",
        "At the end of the notebook, you will:\n",
        "\n",
        "- Be able to use **Gymnasium**, the environment library.\n",
        "- Be able to use **Stable-Baselines3**, the deep reinforcement learning library.\n",
        "- Be able to **push your trained agent to the Hub** with a nice video replay and an evaluation score 🔥.\n",
        "\n",
        "\n"
      ]
    },
    {
      "cell_type": "markdown",
      "metadata": {
        "id": "Ff-nyJdzJPND"
      },
      "source": [
        "## This notebook is from Deep Reinforcement Learning Course\n",
        "\n",
        "<img src=\"https://huggingface.co/datasets/huggingface-deep-rl-course/course-images/resolve/main/en/notebooks/deep-rl-course-illustration.jpg\" alt=\"Deep RL Course illustration\"/>"
      ]
    },
    {
      "cell_type": "markdown",
      "metadata": {
        "id": "6p5HnEefISCB"
      },
      "source": [
        "In this free course, you will:\n",
        "\n",
        "- 📖 Study Deep Reinforcement Learning in **theory and practice**.\n",
        "- 🧑‍💻 Learn to **use famous Deep RL libraries** such as Stable Baselines3, RL Baselines3 Zoo, CleanRL and Sample Factory 2.0.\n",
        "- 🤖 Train **agents in unique environments**\n",
        "- 🎓 **Earn a certificate of completion** by completing 80% of the assignments.\n",
        "\n",
        "And more!\n",
        "\n",
        "Check 📚 the syllabus 👉 https://simoninithomas.github.io/deep-rl-course\n",
        "\n",
        "Don’t forget to **<a href=\"http://eepurl.com/ic5ZUD\">sign up to the course</a>** (we are collecting your email to be able to **send you the links when each Unit is published and give you information about the challenges and updates).**\n",
        "\n",
        "The best way to keep in touch and ask questions is **to join our discord server** to exchange with the community and with us 👉🏻 https://discord.gg/ydHrjt3WP5"
      ]
    },
    {
      "cell_type": "markdown",
      "metadata": {
        "id": "Y-mo_6rXIjRi"
      },
      "source": [
        "## Prerequisites 🏗️\n",
        "\n",
        "Before diving into the notebook, you need to:\n",
        "\n",
        "🔲 📝 **[Read Unit 0](https://huggingface.co/deep-rl-course/unit0/introduction)** that gives you all the **information about the course and helps you to onboard** 🤗\n",
        "\n",
        "🔲 📚 **Develop an understanding of the foundations of Reinforcement learning** (MC, TD, Rewards hypothesis...) by [reading Unit 1](https://huggingface.co/deep-rl-course/unit1/introduction)."
      ]
    },
    {
      "cell_type": "markdown",
      "metadata": {
        "id": "HoeqMnr5LuYE"
      },
      "source": [
        "## A small recap of Deep Reinforcement Learning 📚\n",
        "\n",
        "<img src=\"https://huggingface.co/datasets/huggingface-deep-rl-course/course-images/resolve/main/en/unit1/RL_process_game.jpg\" alt=\"The RL process\" width=\"100%\">"
      ]
    },
    {
      "cell_type": "markdown",
      "metadata": {
        "id": "xcQYx9ynaFMD"
      },
      "source": [
        "Let's do a small recap on what we learned in the first Unit:\n",
        "\n",
        "- Reinforcement Learning is a **computational approach to learning from actions**. We build an agent that learns from the environment by **interacting with it through trial and error** and receiving rewards (negative or positive) as feedback.\n",
        "\n",
        "- The goal of any RL agent is to **maximize its expected cumulative reward** (also called expected return) because RL is based on the _reward hypothesis_, which is that all goals can be described as the maximization of an expected cumulative reward.\n",
        "\n",
        "- The RL process is a **loop that outputs a sequence of state, action, reward, and next state**.\n",
        "\n",
        "- To calculate the expected cumulative reward (expected return), **we discount the rewards**: the rewards that come sooner (at the beginning of the game) are more probable to happen since they are more predictable than the long-term future reward.\n",
        "\n",
        "- To solve an RL problem, you want to **find an optimal policy**; the policy is the \"brain\" of your AI that will tell us what action to take given a state. The optimal one is the one that gives you the actions that max the expected return.\n",
        "\n",
        "There are **two** ways to find your optimal policy:\n",
        "\n",
        "- By **training your policy directly**: policy-based methods.\n",
        "- By **training a value function** that tells us the expected return the agent will get at each state and use this function to define our policy: value-based methods.\n",
        "\n",
        "- Finally, we spoke about Deep RL because **we introduce deep neural networks to estimate the action to take (policy-based) or to estimate the value of a state (value-based) hence the name \"deep.\"**"
      ]
    },
    {
      "cell_type": "markdown",
      "metadata": {
        "id": "qDploC3jSH99"
      },
      "source": [
        "# Давайте обучим нашего первого агента Deep Reinforcement Learning и загрузим его в хаб 🚀.\n",
        "\n",
        "## Получите сертификат 🎓\n",
        "\n",
        "Чтобы подтвердить эту практическую работу для [процесса сертификации](https://huggingface.co/deep-rl-course/en/unit0/introduction#certification-process), вам нужно загрузить обученную модель в Хаб и **получить результат >= 200**.\n",
        "\n",
        "Чтобы узнать свой результат, перейдите на [таблицу лидеров](https://huggingface.co/spaces/huggingface-projects/Deep-Reinforcement-Learning-Leaderboard) и найдите свою модель, **результат = mean_reward - std of reward**.\n",
        "\n",
        "Более подробную информацию о процессе сертификации вы можете найти в этом разделе 👉 https://huggingface.co/deep-rl-course/en/unit0/introduction#certification-process"
      ]
    },
    {
      "cell_type": "markdown",
      "metadata": {
        "id": "HqzznTzhNfAC"
      },
      "source": [
        "## Настройте GPU 💪.\n",
        "\n",
        "- Чтобы **ускорить обучение агента, мы будем использовать GPU**. Для этого перейдите в раздел `Runtime > Change Runtime type`.\n",
        "\n",
        "<img src=\"https://huggingface.co/datasets/huggingface-deep-rl-course/course-images/resolve/main/en/notebooks/gpu-step1.jpg\" alt=\"GPU Step 1\">"
      ]
    },
    {
      "cell_type": "markdown",
      "metadata": {
        "id": "38HBd3t1SHJ8"
      },
      "source": [
        "- `Hardware Accelerator > GPU`\n",
        "\n",
        "<img src=\"https://huggingface.co/datasets/huggingface-deep-rl-course/course-images/resolve/main/en/notebooks/gpu-step2.jpg\" alt=\"GPU Step 2\">"
      ]
    },
    {
      "cell_type": "markdown",
      "metadata": {
        "id": "jeDAH0h0EBiG"
      },
      "source": [
        "## Установите зависимости и создайте виртуальный экран 🔽.\n",
        "\n",
        "Первым шагом будет установка необходимых зависимостей, мы установим несколько из них.\n",
        "\n",
        "- `gymnasium[box2d]`: Содержит окружение LunarLander-v2 🌛\n",
        "- `stable-baselines3[extra]`: Библиотека глубокого обучения с подкреплением.\n",
        "- `huggingface_sb3`: Дополнительный код для Stable-baselines3 для загрузки и выгрузки моделей из Hugging Face 🤗 Hub.\n",
        "\n",
        "Чтобы упростить работу, мы создали скрипт для установки всех этих зависимостей."
      ]
    },
    {
      "cell_type": "code",
      "execution_count": null,
      "metadata": {
        "id": "yQIGLPDkGhgG"
      },
      "outputs": [],
      "source": [
        "!apt install swig cmake"
      ]
    },
    {
      "cell_type": "code",
      "execution_count": null,
      "metadata": {
        "id": "9XaULfDZDvrC"
      },
      "outputs": [],
      "source": [
        "!pip install -r https://raw.githubusercontent.com/huggingface/deep-rl-class/main/notebooks/unit1/requirements-unit1.txt"
      ]
    },
    {
      "cell_type": "markdown",
      "metadata": {
        "id": "BEKeXQJsQCYm"
      },
      "source": [
        "Во время работы с ноутбуком нам нужно будет создать видеозапись. Для этого, с помощью colab, **нам нужен виртуальный экран, чтобы иметь возможность рендерить окружение** (и, соответственно, записывать кадры).\n",
        "\n",
        "Поэтому в следующей ячейке мы установим библиотеки виртуального экрана, создадим и запустим виртуальный экран 🖥."
      ]
    },
    {
      "cell_type": "code",
      "execution_count": null,
      "metadata": {
        "id": "j5f2cGkdP-mb"
      },
      "outputs": [],
      "source": [
        "!sudo apt-get update\n",
        "!sudo apt-get install -y python3-opengl\n",
        "!apt install ffmpeg\n",
        "!apt install xvfb\n",
        "!pip3 install pyvirtualdisplay"
      ]
    },
    {
      "cell_type": "markdown",
      "metadata": {
        "id": "TCwBTAwAW9JJ"
      },
      "source": [
        "Чтобы убедиться, что новые установленные библиотеки используются, **иногда требуется перезапустить среду выполнения ноутбука**. Следующая ячейка приведет к сбою **среды выполнения, поэтому вам нужно будет снова подключиться и запустить код, начиная с этого места**. Благодаря этому трюку **мы сможем запустить наш виртуальный экран**."
      ]
    },
    {
      "cell_type": "code",
      "execution_count": null,
      "metadata": {
        "id": "cYvkbef7XEMi"
      },
      "outputs": [],
      "source": [
        "import os\n",
        "os.kill(os.getpid(), 9)"
      ]
    },
    {
      "cell_type": "code",
      "execution_count": null,
      "metadata": {
        "id": "BE5JWP5rQIKf"
      },
      "outputs": [],
      "source": [
        "# Виртуальный экран\n",
        "from pyvirtualdisplay import Display\n",
        "\n",
        "virtual_display = Display(visible=0, size=(1400, 900))\n",
        "virtual_display.start()"
      ]
    },
    {
      "cell_type": "markdown",
      "metadata": {
        "id": "wrgpVFqyENVf"
      },
      "source": [
        "## Импорт пакетов 📦\n",
        "\n",
        "Еще одна библиотека, которую мы импортируем - huggingface_hub **для загрузки и скачивания обученных моделей с хаба**.\n",
        "\n",
        "\n",
        "Hugging Face Hub 🤗 работает как центральное место, где каждый может делиться и исследовать модели и наборы данных. В нем есть контроль версий, метрики, визуализации и другие функции, которые позволят вам легко сотрудничать с другими.\n",
        "\n",
        "Здесь вы можете увидеть все модели глубокого обучения с подкреплением 👉 https://huggingface.co/models?pipeline_tag=reinforcement-learning&sort=downloads"
      ]
    },
    {
      "cell_type": "code",
      "execution_count": null,
      "metadata": {
        "id": "cygWLPGsEQ0m"
      },
      "outputs": [],
      "source": [
        "import gymnasium\n",
        "\n",
        "from huggingface_sb3 import load_from_hub, package_to_hub\n",
        "from huggingface_hub import notebook_login # Войдите в наш аккаунт Hugging Face, чтобы иметь возможность загружать модели в хаб.\n",
        "\n",
        "from stable_baselines3 import PPO\n",
        "from stable_baselines3.common.env_util import make_vec_env\n",
        "from stable_baselines3.common.evaluation import evaluate_policy\n",
        "from stable_baselines3.common.monitor import Monitor"
      ]
    },
    {
      "cell_type": "markdown",
      "metadata": {
        "id": "MRqRuRUl8CsB"
      },
      "source": [
        "## Поймите Gymnasium и как он работает 🤖\n",
        "\n",
        "🏋 Библиотека, содержащая наше окружение, называется Gymnasium.\n",
        "**Вы будете часто использовать Gymnasium в Deep Reinforcement Learning.**.\n",
        "\n",
        "Gymnasium - это **новая версия библиотеки Gym** [поддерживается Фондом Фарама] (https://farama.org/).\n",
        "\n",
        "Библиотека Gymnasium предоставляет две вещи:\n",
        "\n",
        "- Интерфейс, позволяющий **создавать RL-среды**.\n",
        "- Коллекцию **окружений** (gym-control, atari, box2D...).\n",
        "\n",
        "Давайте рассмотрим пример, но сначала вспомним цикл RL.\n",
        "<img src=\"https://huggingface.co/datasets/huggingface-deep-rl-course/course-images/resolve/main/en/unit1/RL_process_game.jpg\" alt=\"The RL process\" width=\"100%\">"
      ]
    },
    {
      "cell_type": "markdown",
      "metadata": {
        "id": "-TzNN0bQ_j-3"
      },
      "source": [
        "На каждом шаге:\n",
        "- Наш агент получает **состояние (S0)** от **окружения** - мы получаем первый кадр нашей игры (окружение).\n",
        "- Основываясь на этом **состоянии (S0),** агент предпринимает **действие (A0)** - наш агент перемещается вправо.\n",
        "- Окружение переходит в **новое** **состояние (S1)** - новый кадр.\n",
        "- Окружающая среда дает некоторое **вознаграждение (R1)** Агенту - мы не умерли *(Положительное вознаграждение +1)*.\n",
        "\n",
        "\n",
        "С помощью Gymnasium:\n",
        "\n",
        "1️⃣ Мы создаем окружение с помощью `gymnasium.make()`.\n",
        "\n",
        "2️⃣ Мы возвращаем окружение в исходное состояние с помощью `observation = env.reset()`.\n",
        "\n",
        "На каждом шаге:\n",
        "\n",
        "3️⃣ Получаем действие, используя нашу модель (в нашем примере мы берем случайное действие).\n",
        "\n",
        "4️⃣ Используя `env.step(action)`, мы выполняем это действие в окружении и получаем\n",
        "- `наблюдение`: Новое состояние (st+1)\n",
        "- `вознаграждение`: Вознаграждение, которое мы получаем после выполнения действия\n",
        "- `terminated`: Указывает, завершился ли эпизод (агент достиг терминального состояния)\n",
        "- `truncated`: Введено в новой версии, указывает на ограничение по времени или, например, если агент вышел за пределы окружения.\n",
        "- `info`: Словарь, предоставляющий дополнительную информацию (зависит от окружения).\n",
        "\n",
        "За более подробными объяснениями обратитесь к этому 👉 https://gymnasium.farama.org/api/env/#gymnasium.Env.step.\n",
        "\n",
        "Если эпизод завершается:\n",
        "- Мы возвращаем окружение в исходное состояние с помощью `observation = env.reset()`.\n",
        "\n",
        "**Давайте посмотрим на пример!** Обязательно прочитайте код"
      ]
    },
    {
      "cell_type": "code",
      "execution_count": null,
      "metadata": {
        "id": "w7vOFlpA_ONz"
      },
      "outputs": [],
      "source": [
        "import gymnasium as gym\n",
        "\n",
        "# Сначала мы создаем среду под названием LunarLander-v2\n",
        "env = gym.make(\"LunarLander-v2\")\n",
        "\n",
        "# Затем мы инициализируем эту среду\n",
        "observation, info = env.reset()\n",
        "\n",
        "for _ in range(20):\n",
        "  # Выбираем случайное действие\n",
        "  action = env.action_space.sample()\n",
        "  print(\"Action taken:\", action)\n",
        "\n",
        "  # Выполняем это действие в среде и получаем\n",
        "  # наблюдение, вознаграждение, terminated (завершился ли эпизод),\n",
        "  # truncated (ограничение по времени или, например, если агент вышел за пределы окружения),\n",
        "  # info (дополнительная информация)\n",
        "  observation, reward, terminated, truncated, info = env.step(action)\n",
        "\n",
        "  # Если игра завершена (в нашем случае мы приземлились, разбились) или прервана (таймаут)\n",
        "  if terminated or truncated:\n",
        "      # Перезагружаем среду\n",
        "      print(\"Environment is reset\")\n",
        "      observation, info = env.reset()\n",
        "\n",
        "env.close()"
      ]
    },
    {
      "cell_type": "markdown",
      "metadata": {
        "id": "XIrKGGSlENZB"
      },
      "source": [
        "## Создайте окружение LunarLander 🌛 и поймите, как оно работает\n",
        "\n",
        "### [Среда 🎮](https://gymnasium.farama.org/environments/box2d/lunar_lander/)\n",
        "\n",
        "В этом первом уроке мы будем обучать нашего агента, [Lunar Lander](https://gymnasium.farama.org/environments/box2d/lunar_lander/), **правильной посадке на Луну**. Для этого агент должен научиться **адаптировать свою скорость и положение (горизонтальное, вертикальное и угловое) для правильной посадки**.\n",
        "\n",
        "---\n",
        "\n",
        "\n",
        "💡 Хорошая привычка, когда вы начинаете использовать среду - прочитать ее документацию.\n",
        "\n",
        "👉 https://gymnasium.farama.org/environments/box2d/lunar_lander/\n",
        "\n",
        "---"
      ]
    },
    {
      "cell_type": "markdown",
      "metadata": {
        "id": "poLBgRocF9aT"
      },
      "source": [
        "Давайте посмотрим, как выглядит среда:"
      ]
    },
    {
      "cell_type": "code",
      "execution_count": null,
      "metadata": {
        "id": "ZNPG0g_UGCfh"
      },
      "outputs": [],
      "source": [
        "# Создаем наше окружение с помощью gym.make(\"<имя_окружения>\")\n",
        "env = gym.make(\"LunarLander-v2\")\n",
        "env.reset()\n",
        "print(\"_____OBSERVATION SPACE_____ \\n\")\n",
        "print(\"Observation Space Shape\", env.observation_space.shape)\n",
        "print(\"Sample observation\", env.observation_space.sample()) # Получаем случайное наблюдение "
      ]
    },
    {
      "cell_type": "markdown",
      "metadata": {
        "id": "2MXc15qFE0M9"
      },
      "source": [
        " `Observation Space Shape (8,)` означает, что наблюдение - это вектор размера 8, где каждое значение содержит различную информацию об окружении:\n",
        "- Горизонтальная координата площадки (x)\n",
        "- Вертикальная координата площадки (y)\n",
        "- Горизонтальная скорость посадочного аппарата (x)\n",
        "- Вертикальная скорость посадочного аппарата (y)\n",
        "- Угол наклона посадочного аппарата\n",
        "- Угловая скорость посадочного аппарата\n",
        "- Если точка контакта левой ноги коснулась земли (булевое значение)\n",
        "- Если точка контакта правой ноги коснулась земли (булевое значение)"
      ]
    },
    {
      "cell_type": "code",
      "execution_count": null,
      "metadata": {
        "id": "We5WqOBGLoSm"
      },
      "outputs": [],
      "source": [
        "print(\"\\n _____ACTION SPACE_____ \\n\")\n",
        "print(\"Action Space Shape\", env.action_space.n)\n",
        "print(\"Action Space Sample\", env.action_space.sample()) # Берем случайное действие "
      ]
    },
    {
      "cell_type": "markdown",
      "metadata": {
        "id": "MyxXwkI2Magx"
      },
      "source": [
        " Пространство действий (множество возможных действий агента) дискретно и имеет 4 варианта 🎮:\n",
        "\n",
        "- Действие 0: Ничего не делать,\n",
        "- Действие 1: Запустить левый двигатель ориентации,\n",
        "- Действие 2: запустить основной двигатель,\n",
        "- Действие 3: запустить двигатель правой ориентации.\n",
        "\n",
        "Функция вознаграждения (функция, которая будет выдавать вознаграждение на каждом временном шаге) 💰:\n",
        "\n",
        "После каждого шага выдается награда. Общая награда за эпизод - это **сумма наград за все шаги в этом эпизоде**.\n",
        "\n",
        "За каждый шаг награда:\n",
        "\n",
        "- Увеличивается/уменьшается, чем ближе/дальше находится посадочная площадка.\n",
        "- Увеличивается/уменьшается, чем медленнее/быстрее движется посадочный аппарат.\n",
        "- Уменьшается тем больше, чем больше наклонен посадочный аппарат по отношению к горизонту.\n",
        "- Увеличивается на 10 очков за каждую ногу, соприкасающуюся с землей.\n",
        "- Уменьшается на 0,03 балла за каждый кадр, когда работает боковой двигатель.\n",
        "- Уменьшается на 0,3 балла за каждый кадр работы основного двигателя.\n",
        "\n",
        "Эпизод получает **дополнительное вознаграждение в размере -100 или +100 очков за крушение или благополучное приземление соответственно*.\n",
        "\n",
        "Эпизод считается **решением, если он набирает не менее 200 очков.**."
      ]
    },
    {
      "cell_type": "markdown",
      "metadata": {
        "id": "dFD9RAFjG8aq"
      },
      "source": [
        "#### Векторизованная среда\n",
        "\n",
        "- Мы создаем векторизованное окружение (метод объединения нескольких независимых окружений в одно) из 16 окружений. Таким образом, **мы получим больше разнообразного опыта во время обучения**."
      ]
    },
    {
      "cell_type": "code",
      "execution_count": null,
      "metadata": {
        "id": "99hqQ_etEy1N"
      },
      "outputs": [],
      "source": [
        "# Create the environment\n",
        "env = make_vec_env('LunarLander-v2', n_envs=16)"
      ]
    },
    {
      "cell_type": "markdown",
      "metadata": {
        "id": "VgrE86r5E5IK"
      },
      "source": [
        "## Создание модели 🤖\n",
        "- Мы изучили наше окружение и поняли задачу: **уметь правильно посадить Lunar Lander на посадочную площадку, управляя левым, правым и главным двигателем ориентации**. Теперь давайте построим алгоритм, который мы будем использовать для решения этой задачи 🚀.\n",
        "\n",
        "- Для этого мы воспользуемся нашей первой библиотекой Deep RL - [Stable Baselines3 (SB3)](https://stable-baselines3.readthedocs.io/en/master/).\n",
        "\n",
        "- SB3 - это набор **надежных реализаций алгоритмов обучения с подкреплением в PyTorch**.\n",
        "\n",
        "---\n",
        "\n",
        "💡 Хорошая привычка при использовании новой библиотеки - сначала погрузиться в документацию https://stable-baselines3.readthedocs.io/en/master/, а затем попробовать несколько туториалов.\n",
        "\n",
        "----"
      ]
    },
    {
      "cell_type": "markdown",
      "metadata": {
        "id": "HLlClRW37Q7e"
      },
      "source": [
        "<img src=\"https://huggingface.co/datasets/huggingface-deep-rl-course/course-images/resolve/main/en/unit1/sb3.png\" alt=\"Stable Baselines3\">"
      ]
    },
    {
      "cell_type": "markdown",
      "metadata": {
        "id": "HV4yiUM_9_Ka"
      },
      "source": [
        "Для решения этой задачи мы будем использовать SB3 **PPO**. [PPO (он же Проксимальная оптимизация политики) - один из алгоритмов SOTA (State Of The Art, самый современный метод) глубокого обучения с подкреплением, которые вы изучите в ходе этого курса] (https://stable-baselines3.readthedocs.io/en/master/modules/ppo.html#example%5D).\n",
        "\n",
        "PPO - это комбинация из:\n",
        "- *Метод подкрепляющего обучения на основе ценности*: обучение функции \"действие-ценность\", которая подсказывает нам **наиболее ценное действие, которое следует предпринять, учитывая состояние и действие**.\n",
        "- *Метод обучения с подкреплением на основе политики*: обучение политике, которая **даст нам распределение вероятностей по действиям**."
      ]
    },
    {
      "cell_type": "markdown",
      "metadata": {
        "id": "5qL_4HeIOrEJ"
      },
      "source": [
        "Stable-Baselines3 легко настраивается:\n",
        "\n",
        "1️⃣ Вы **создаете свое окружение** (в нашем случае это было сделано выше).\n",
        "\n",
        "2️⃣ Вы определяете **модель, которую хотите использовать, и инстанцируете эту модель** `model = PPO(\"MlpPolicy\")`.\n",
        "\n",
        "3️⃣ Вы **обучаете агента** с помощью `model.learn` и определяете количество временных шагов обучения\n",
        "\n",
        "```\n",
        "# Создаем среду\n",
        "env = gym.make('LunarLander-v2')\n",
        "\n",
        "# Инстанциируем агента\n",
        "model = PPO('MlpPolicy', env, verbose=1)\n",
        "\n",
        "# Обучаем агента\n",
        "model.learn(total_timesteps=int(2e5))\n",
        "```\n",
        "\n"
      ]
    },
    {
      "cell_type": "code",
      "execution_count": null,
      "metadata": {
        "id": "nxI6hT1GE4-A"
      },
      "outputs": [],
      "source": [
        "# НЕОБХОДИМО СДЕЛАТЬ: Определите архитектуру PPO MlpPolicy.\n",
        "# Мы используем многослойный перцептрон (MLPPolicy), потому что на входе вектор,\n",
        "# если бы на входе были кадры, мы бы использовали CnnPolicy\n",
        "model ="
      ]
    },
    {
      "cell_type": "markdown",
      "metadata": {
        "id": "QAN7B0_HCVZC"
      },
      "source": [
        "#### Решение"
      ]
    },
    {
      "cell_type": "code",
      "execution_count": null,
      "metadata": {
        "id": "543OHYDfcjK4"
      },
      "outputs": [],
      "source": [
        "# РЕШЕНИЕ\n",
        "# Мы добавили несколько параметров для ускорения обучения\n",
        "model = PPO(\n",
        "    policy = 'MlpPolicy',\n",
        "    env = env,\n",
        "    n_steps = 1024,\n",
        "    batch_size = 64,\n",
        "    n_epochs = 4,\n",
        "    gamma = 0.999,\n",
        "    gae_lambda = 0.98,\n",
        "    ent_coef = 0.01,\n",
        "    verbose=1)"
      ]
    },
    {
      "cell_type": "markdown",
      "metadata": {
        "id": "ClJJk88yoBUi"
      },
      "source": [
        "## Обучение агента PPO 🏃.\n",
        "- Давайте обучим нашего агента на 1 000 000 временных шагов, не забудьте использовать GPU на Colab. Это займет примерно 20 минут, но вы можете использовать меньшее количество временных шагов, если хотите просто попробовать.\n",
        "- Во время тренировки сделайте перерыв ☕ вы его заслужили 🤗."
      ]
    },
    {
      "cell_type": "code",
      "execution_count": null,
      "metadata": {
        "id": "qKnYkNiVp89p"
      },
      "outputs": [],
      "source": [
        "# НЕОБХОДИМО СДЕЛАТЬ: Обучите модель на 1 000 000 временных шагов.\n",
        "\n",
        "# НЕОБХОДИМО СДЕЛАТЬ: Укажите имя файла для модели и сохраните модель в файл\n",
        "model_name = \"\"\n"
      ]
    },
    {
      "cell_type": "markdown",
      "metadata": {
        "id": "1bQzQ-QcE3zo"
      },
      "source": [
        "#### Solution"
      ]
    },
    {
      "cell_type": "code",
      "execution_count": null,
      "metadata": {
        "id": "poBCy9u_csyR"
      },
      "outputs": [],
      "source": [
        "# РЕШЕНИЕ\n",
        "# Обучите модель на 1 000 000 временных шагов.\n",
        "model.learn(total_timesteps=1000000)\n",
        "# Сохраните модель\n",
        "model_name = \"ppo-LunarLander-v2\"\n",
        "model.save(model_name)"
      ]
    },
    {
      "cell_type": "markdown",
      "metadata": {
        "id": "BY_HuedOoISR"
      },
      "source": [
        "## Оцените агента 📈.\n",
        "- Не забудьте обернуть окружение в [Monitor](https://stable-baselines3.readthedocs.io/en/master/common/monitor.html).\n",
        "- Теперь, когда наш агент Lunar Lander обучен 🚀, нам нужно **проверить его работу**.\n",
        "- Stable-Baselines3 предоставляет метод для этого: `evaluate_policy`.\n",
        "- Чтобы заполнить эту часть, вам нужно [посмотреть документацию](https://stable-baselines3.readthedocs.io/en/master/guide/examples.html#basic-usage-training-saving-loading)\n",
        "- В следующем шаге мы увидим **как автоматически оценить и поделиться своим агентом, чтобы соревноваться в таблице лидеров, а пока давайте сделаем это сами**.\n",
        "\n",
        "\n",
        "💡 Когда вы оцениваете своего агента, вы должны использовать не свою тренировочную среду, а создать среду оценки."
      ]
    },
    {
      "cell_type": "code",
      "execution_count": null,
      "metadata": {
        "id": "yRpno0glsADy"
      },
      "outputs": [],
      "source": [
        "# НЕОБХОДИМО СДЕЛАТЬ: Оцените агента\n",
        "# Создайте новую среду для оценки\n",
        "eval_env =\n",
        "\n",
        "# Оценить модель с 10 эпизодами оценки и детерминированностью=True\n",
        "mean_reward, std_reward =\n",
        "\n",
        "# Вывести результаты\n",
        "\n"
      ]
    },
    {
      "cell_type": "markdown",
      "metadata": {
        "id": "BqPKw3jt_pG5"
      },
      "source": [
        "#### Решение"
      ]
    },
    {
      "cell_type": "code",
      "execution_count": null,
      "metadata": {
        "id": "zpz8kHlt_a_m"
      },
      "outputs": [],
      "source": [
        "#@title\n",
        "eval_env = Monitor(gym.make(\"LunarLander-v2\"))\n",
        "mean_reward, std_reward = evaluate_policy(model, eval_env, n_eval_episodes=10, deterministic=True)\n",
        "print(f\"mean_reward={mean_reward:.2f} +/- {std_reward}\")"
      ]
    },
    {
      "cell_type": "markdown",
      "metadata": {
        "id": "reBhoODwcXfr"
      },
      "source": [
        "- В моем случае я получил среднее вознаграждение `200.20 +/- 20.80` после обучения на 1 миллионе шагов, что означает, что наш агент лунохода готов к посадке на Луну 🌛🥳."
      ]
    },
    {
      "cell_type": "markdown",
      "metadata": {
        "id": "IK_kR78NoNb2"
      },
      "source": [
        "## Опубликуйте нашу обученную модель на хабе 🔥.\n",
        "Теперь, когда мы увидели, что получили хорошие результаты после обучения, мы можем опубликовать нашу обученную модель на хабе 🤗 с помощью одной строки кода.\n",
        "\n",
        "📚 Документация по библиотекам 👉 https://github.com/huggingface/huggingface_sb3/tree/main#hugging-face--x-stable-baselines3-v20\n",
        "\n",
        "Вот пример карточки модели (с Space Invaders):\n",
        "\n",
        "**FIXME**"
      ]
    },
    {
      "cell_type": "markdown",
      "metadata": {
        "id": "Gs-Ew7e1gXN3"
      },
      "source": [
        "Используя `package_to_hub` **вы оцениваете, записываете реплей, генерируете карту модели вашего агента и отправляете ее в хаб**.\n",
        "\n",
        "Таким образом:\n",
        "- Вы можете **показать нашу работу** 🔥.\n",
        "- Вы можете **визуализировать игру вашего агента** 👀\n",
        "- Вы можете **поделиться с сообществом агентом, который может быть использован другими** 💾\n",
        "- Вы можете **зайти в таблицу лидеров 🏆 и посмотреть, насколько хорошо ваш агент играет по сравнению с вашими одноклассниками** 👉 https://huggingface.co/spaces/huggingface-projects/Deep-Reinforcement-Learning-Leaderboard"
      ]
    },
    {
      "cell_type": "markdown",
      "metadata": {
        "id": "JquRrWytA6eo"
      },
      "source": [
        "Чтобы получить возможность поделиться своей моделью с сообществом, нужно выполнить еще три шага:\n",
        "\n",
        "1️⃣ (если это еще не сделано) создайте учетную запись на Hugging Face ➡ https://huggingface.co/join\n",
        "\n",
        "2️⃣ Войдите в систему, а затем вам нужно сохранить токен аутентификации с сайта Hugging Face.\n",
        "- Создайте новый токен (https://huggingface.co/settings/tokens) **с ролью записи**.\n",
        "\n",
        "<img src=\"https://huggingface.co/datasets/huggingface-deep-rl-course/course-images/resolve/main/en/notebooks/create-token.jpg\" alt=\"Создать HF-токен\">.\n",
        "\n",
        "- Скопируйте токен\n",
        "- Выполните ячейку ниже и вставьте токен"
      ]
    },
    {
      "cell_type": "code",
      "execution_count": null,
      "metadata": {
        "id": "GZiFBBlzxzxY"
      },
      "outputs": [],
      "source": [
        "notebook_login()\n",
        "!git config --global credential.helper store"
      ]
    },
    {
      "cell_type": "markdown",
      "metadata": {
        "id": "_tsf2uv0g_4p"
      },
      "source": [
        "Если вы не хотите использовать Google Colab или Jupyter Notebook, вам нужно использовать эту команду: `huggingface-cli login`."
      ]
    },
    {
      "cell_type": "markdown",
      "metadata": {
        "id": "FGNh9VsZok0i"
      },
      "source": [
        "3️⃣ Теперь мы готовы отправить нашего обученного агента в 🤗 хаб 🔥 с помощью функции `package_to_hub()`."
      ]
    },
    {
      "cell_type": "markdown",
      "metadata": {
        "id": "Ay24l6bqFF18"
      },
      "source": [
        "Заполним функцию `package_to_hub`:\n",
        "- `model`: наша обученная модель.\n",
        "- `model_name`: имя обученной модели, которое мы определили в `model_save`.\n",
        "- `model_architecture`: архитектура модели, которую мы использовали, в нашем случае PPO\n",
        "- `env_id`: имя окружения, в нашем случае `LunarLander-v2`.\n",
        "- `eval_env`: среда оценки, определенная в eval_env\n",
        "- `repo_id`: имя репозитория Hugging Face Hub, который будет создан/обновлен `(repo_id = {username}/{repo_name})`.\n",
        "\n",
        "💡 **Хорошее имя - {username}/{model_architecture}-{env_id}**.\n",
        "\n",
        "- `commit_message`: сообщение commit"
      ]
    },
    {
      "cell_type": "code",
      "execution_count": null,
      "metadata": {
        "id": "JPG7ofdGIHN8"
      },
      "outputs": [],
      "source": [
        "import gymnasium as gym\n",
        "from stable_baselines3.common.vec_env import DummyVecEnv\n",
        "from stable_baselines3.common.env_util import make_vec_env\n",
        "\n",
        "from huggingface_sb3 import package_to_hub\n",
        "\n",
        "## НЕОБХОДИМО СДЕЛАТЬ: Определите repo_id\n",
        "## repo_id - это идентификатор репозитория модели из хаба Hugging Face (repo_id = {organization}/{repo_name} для примера ThomasSimonini/ppo-LunarLander-v2\n",
        "repo_id =\n",
        "\n",
        "# НЕОБХОДИМО СДЕЛАТЬ: Определите имя окружения\n",
        "env_id =\n",
        "\n",
        "# Создайте оценочное окружение и установите render_mode=\"rgb_array\"\n",
        "eval_env = DummyVecEnv([lambda: Monitor(gym.make(env_id, render_mode=\"rgb_array\"))])\n",
        "\n",
        "\n",
        "# НЕОБХОДИМО СДЕЛАТЬ: Определите архитектуру модели, которую мы использовали\n",
        "model_architecture = \"\"\n",
        "\n",
        "## НЕОБХОДИМО СДЕЛАТЬ: Определите сообщение commit\n",
        "commit_message = \"\"\n",
        "\n",
        "# метод сохраняет, оценивает, генерирует карточку модели и записывает видео с воспроизведением вашего агента перед отправкой репозитория в хаб\n",
        "package_to_hub(model=model, # Наша обученная модель\n",
        "               model_name=model_name, # Имя нашей обученной модели\n",
        "               model_architecture=model_architecture, # Архитектура модели, которую мы использовали: в нашем случае PPO\n",
        "               env_id=env_id, # Имя окружения\n",
        "               eval_env=eval_env, # Окружение оценки\n",
        "               repo_id=repo_id, # id репозитория модели из Hugging Face Hub (repo_id = {organization}/{repo_name} для примера ThomasSimonini/ppo-LunarLander-v2\n",
        "               commit_message=commit_message)"
      ]
    },
    {
      "cell_type": "markdown",
      "metadata": {
        "id": "Avf6gufJBGMw"
      },
      "source": [
        "#### Решение\n"
      ]
    },
    {
      "cell_type": "code",
      "execution_count": null,
      "metadata": {
        "id": "I2E--IJu8JYq"
      },
      "outputs": [],
      "source": [
        "import gymnasium as gym\n",
        "\n",
        "from stable_baselines3 import PPO\n",
        "from stable_baselines3.common.vec_env import DummyVecEnv\n",
        "from stable_baselines3.common.env_util import make_vec_env\n",
        "\n",
        "from huggingface_sb3 import package_to_hub\n",
        "\n",
        "# Определите имя окружения\n",
        "env_id = \"LunarLander-v2\"\n",
        "\n",
        "# Определите архитектуру модели, которую мы использовали\n",
        "model_architecture = \"PPO\"\n",
        "\n",
        "## Определите repo_id\n",
        "## repo_id - это идентификатор репозитория модели из хаба Hugging Face (repo_id = {organization}/{repo_name} для примера ThomasSimonini/ppo-LunarLander-v2\n",
        "## ИЗМЕНИТЕ НА ИДЕНТИФИКАТОР ВАШЕГО РЕПО\n",
        "repo_id = \"ThomasSimonini/ppo-LunarLander-v2\" # Измените на идентификатор вашего репо, вы не можете использовать мой 😄.\n",
        "\n",
        "## Определите сообщение commit\n",
        "commit_message = \"Upload PPO LunarLander-v2 trained agent\"\n",
        "\n",
        "# Создайте оценочное окружение и установите render_mode=\"rgb_array\"\n",
        "eval_env = DummyVecEnv([lambda: gym.make(env_id, render_mode=\"rgb_array\")])\n",
        "\n",
        "# PLACE the package_to_hub function you've just filled here\n",
        "package_to_hub(model=model, # Наша обученная модель\n",
        "               model_name=model_name, # Имя нашей обученной модели\n",
        "               model_architecture=model_architecture, # Архитектура модели, которую мы использовали: в нашем случае PPO\n",
        "               env_id=env_id, # Имя окружения\n",
        "               eval_env=eval_env, # Окружение оценки\n",
        "               repo_id=repo_id, # id репозитория модели из Hugging Face Hub (repo_id = {organization}/{repo_name} для примера ThomasSimonini/ppo-LunarLander-v2\n",
        "               commit_message=commit_message)\n"
      ]
    },
    {
      "cell_type": "markdown",
      "metadata": {
        "id": "T79AEAWEFIxz"
      },
      "source": [
        "Поздравляем 🥳 Вы только что обучили и загрузили своего первого агента глубокого обучения с подкреплением. Приведенный выше сценарий должен был отобразить ссылку на хранилище моделей, например https://huggingface.co/osanseviero/test_sb3. Перейдя по этой ссылке, вы сможете:\n",
        "* Посмотреть предварительный просмотр видео вашего агента справа.\n",
        "* Щелкнуть \"Файлы и версии\", чтобы увидеть все файлы в репозитории.\n",
        "* Нажмите \"Use in stable-baselines3\", чтобы получить фрагмент кода, показывающий, как загрузить модель.\n",
        "* Карточка модели (файл `README.md`), в которой дается описание модели.\n",
        "\n",
        "Под капотом Хаб использует репозитории на основе git (не волнуйтесь, если вы не знаете, что такое git), что означает, что вы можете обновлять модель новыми версиями по мере того, как вы экспериментируете и улучшаете своего агента.\n",
        "\n",
        "Сравните результаты своего LunarLander-v2 с одноклассниками с помощью таблицы лидеров 🏆 👉 https://huggingface.co/spaces/huggingface-projects/Deep-Reinforcement-Learning-Leaderboard"
      ]
    },
    {
      "cell_type": "markdown",
      "metadata": {
        "id": "9nWnuQHRfFRa"
      },
      "source": [
        "## Загрузите сохраненную модель LunarLander из хаба 🤗.\n",
        "Спасибо [ironbar](https://github.com/ironbar) за предоставленный материал.\n",
        "\n",
        "Загрузить сохраненную модель из хаба очень просто.\n",
        "\n",
        "Зайдите на https://huggingface.co/models?library=stable-baselines3, чтобы увидеть список всех сохраненных моделей Stable-baselines3.\n",
        "1. Выбираете одну из них и копируете ее repo_id\n",
        "\n",
        "<img src=\"https://huggingface.co/datasets/huggingface-deep-rl-course/course-images/resolve/main/en/notebooks/unit1/copy-id.png\" alt=\"Copy-id\"/>"
      ]
    },
    {
      "cell_type": "markdown",
      "metadata": {
        "id": "hNPLJF2bfiUw"
      },
      "source": [
        "2. Тогда нам просто нужно использовать load_from_hub с:\n",
        "- repo_id\n",
        "- filename: сохраненная модель в репозитории и ее расширение (*.zip)"
      ]
    },
    {
      "cell_type": "markdown",
      "metadata": {
        "id": "bhb9-NtsinKB"
      },
      "source": [
        "Поскольку модель, которую я загружаю с хаба, была обучена с помощью Gym (бывшая версия Gymnasium), нам нужно установить shimmy - инструмент для преобразования API, который поможет нам правильно запустить среду.\n",
        "\n",
        "Документация по Shimmy: https://github.com/Farama-Foundation/Shimmy"
      ]
    },
    {
      "cell_type": "code",
      "execution_count": null,
      "metadata": {
        "id": "03WI-bkci1kH"
      },
      "outputs": [],
      "source": [
        "!pip install shimmy"
      ]
    },
    {
      "cell_type": "code",
      "execution_count": null,
      "metadata": {
        "id": "oj8PSGHJfwz3"
      },
      "outputs": [],
      "source": [
        "from huggingface_sb3 import load_from_hub\n",
        "repo_id = \"Classroom-workshop/assignment2-omar\" # идентификатор репозитория\n",
        "filename = \"ppo-LunarLander-v2.zip\" # имя файла модели с расширением .zip\n",
        "\n",
        "# Если модель была обучена на Python 3.8, использовался протокол pickle 5.\n",
        "# Но в Python 3.6, 3.7 используется протокол 4.\n",
        "# Чтобы добиться совместимости, нам нужно:\n",
        "# 1. Установить pickle5 (мы сделали это в начале коллаба)\n",
        "# 2. Создать пользовательский пустой объект, который мы передадим в качестве параметра в PPO.load()\n",
        "custom_objects = {\n",
        "            \"learning_rate\": 0.0,\n",
        "            \"lr_schedule\": lambda _: 0.0,\n",
        "            \"clip_range\": lambda _: 0.0,\n",
        "}\n",
        "\n",
        "checkpoint = load_from_hub(repo_id, filename)\n",
        "model = PPO.load(checkpoint, custom_objects=custom_objects, print_system_info=True)"
      ]
    },
    {
      "cell_type": "markdown",
      "metadata": {
        "id": "Fs0Y-qgPgLUf"
      },
      "source": [
        "Давайте оценим этого агента:"
      ]
    },
    {
      "cell_type": "code",
      "execution_count": null,
      "metadata": {
        "id": "PAEVwK-aahfx"
      },
      "outputs": [],
      "source": [
        "#@title\n",
        "eval_env = Monitor(gym.make(\"LunarLander-v2\"))\n",
        "mean_reward, std_reward = evaluate_policy(model, eval_env, n_eval_episodes=10, deterministic=True)\n",
        "print(f\"mean_reward={mean_reward:.2f} +/- {std_reward}\")"
      ]
    },
    {
      "cell_type": "markdown",
      "metadata": {
        "id": "BQAwLnYFPk-s"
      },
      "source": [
        "## Некоторые дополнительные трудности 🏆\n",
        "Лучший способ научиться **это попробовать все самому**! Как вы видели, текущий агент работает не очень хорошо. В качестве первого предложения вы можете тренироваться на большем количестве шагов. С 1 000 000 шагов мы увидели отличные результаты!\n",
        "\n",
        "В [Таблице лидеров](https://huggingface.co/spaces/huggingface-projects/Deep-Reinforcement-Learning-Leaderboard) вы найдете своих агентов. Сможете ли вы добраться до вершины?\n",
        "\n",
        "Вот несколько идей, как этого добиться:\n",
        "* Тренировать больше шагов\n",
        "* Попробуйте различные гиперпараметры для `PPO`. Вы можете посмотреть их на https://stable-baselines3.readthedocs.io/en/master/modules/ppo.html#parameters.\n",
        "* Проверьте документацию [Stable-Baselines3](https://stable-baselines3.readthedocs.io/en/master/modules/dqn.html) и попробуйте другую модель, например DQN.\n",
        "* **Поместите вашу новую обученную модель** на хаб 🔥\n",
        "\n",
        "**Сравните результаты LunarLander-v2 со своими одноклассниками**, используя [таблицу лидеров](https://huggingface.co/spaces/huggingface-projects/Deep-Reinforcement-Learning-Leaderboard) 🏆.\n",
        "\n",
        "Посадка на Луну слишком скучна для вас? Попробуйте **изменить окружение**, почему бы не использовать MountainCar-v0, CartPole-v1 или CarRacing-v0? Проверьте, как они работают [используя документацию по gymlibrary](https://www.gymlibrary.dev/) и получайте удовольствие 🎉."
      ]
    },
    {
      "cell_type": "markdown",
      "metadata": {
        "id": "9lM95-dvmif8"
      },
      "source": [
        "________________________________________________________________________\n",
        "Поздравляю с окончанием этой главы! Это была самая большая глава, **и в ней было много информации**.\n",
        "\n",
        "Если вы все еще чувствуете, что запутались во всех этих элементах... это абсолютно нормально! **Так было и со мной, и со всеми, кто изучал RL.\n",
        "\n",
        "Потратьте время, чтобы по-настоящему **освоить материал, прежде чем продолжать и пробовать дополнительные задания**. Очень важно освоить эти элементы и заложить прочный фундамент.\n",
        "\n",
        "Естественно, в ходе курса мы будем углубляться в эти понятия, но **лучше хорошо понять их сейчас, прежде чем погружаться в следующие главы**."
      ]
    },
    {
      "cell_type": "markdown",
      "metadata": {
        "id": "BjLhT70TEZIn"
      },
      "source": [
        "В следующий раз, в бонусном блоке 1, вы обучите собаку Хагги приносить палку.\n",
        "\n",
        "<img src=\"https://huggingface.co/datasets/huggingface-deep-rl-course/course-images/resolve/main/en/notebooks/unit1/huggy.jpg\" alt=\"Huggy\"/>\n",
        "\n",
        "## Продолжайте учиться, оставайтесь крутыми 🤗"
      ]
    }
  ],
  "metadata": {
    "accelerator": "GPU",
    "colab": {
      "collapsed_sections": [
        "QAN7B0_HCVZC",
        "BqPKw3jt_pG5"
      ],
      "private_outputs": true,
      "provenance": []
    },
    "gpuClass": "standard",
    "kernelspec": {
      "display_name": "Python 3.9.7",
      "language": "python",
      "name": "python3"
    },
    "language_info": {
      "name": "python",
      "version": "3.9.7"
    },
    "vscode": {
      "interpreter": {
        "hash": "ed7f8024e43d3b8f5ca3c5e1a8151ab4d136b3ecee1e3fd59e0766ccc55e1b10"
      }
    }
  },
  "nbformat": 4,
  "nbformat_minor": 0
}
