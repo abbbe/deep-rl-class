{
 "cells": [
  {
   "cell_type": "markdown",
   "metadata": {
    "colab_type": "text",
    "id": "view-in-github"
   },
   "source": [
    "<a href=\"https://colab.research.google.com/github/huggingface/deep-rl-class/blob/main/notebooks/unit2/unit2.ipynb\" target=\"_parent\"><img src=\"https://colab.research.google.com/assets/colab-badge.svg\" alt=\"Open In Colab\"/></a>"
   ]
  },
  {
   "cell_type": "markdown",
   "metadata": {
    "id": "njb_ProuHiOe"
   },
   "source": [
    "# Блок 2: Q-Обучение с FrozenLake-v1 ⛄ and Taxi-v3 🚕\n",
    "\n",
    "<img src=\"https://huggingface.co/datasets/huggingface-deep-rl-course/course-images/resolve/main/en/unit3/thumbnail.jpg\" alt=\"Unit 2 Thumbnail\">\n",
    "\n",
    "В этом блокноте **вы с нуля напишете свой первый агент обучения с подкреплением** для игры FrozenLake ❄️ с использованием Q-Обучения, поделитесь им с сообществом и поэкспериментируете с различными конфигурациями.\n",
    "\n",
    "⬇️ Вот пример того, чего **вы добьетесь всего за пару минут.** ⬇️\n",
    "\n"
   ]
  },
  {
   "cell_type": "markdown",
   "metadata": {
    "id": "vRU_vXBrl1Jx"
   },
   "source": [
    "<img src=\"https://huggingface.co/datasets/huggingface-deep-rl-course/course-images/resolve/main/en/unit3/envs.gif\" alt=\"Environments\"/>"
   ]
  },
  {
   "cell_type": "markdown",
   "metadata": {
    "id": "DPTBOv9HYLZ2"
   },
   "source": [
    "###🎮 Среды:\n",
    "\n",
    "- [FrozenLake-v1](https://gymnasium.farama.org/environments/toy_text/frozen_lake/)\n",
    "- [Taxi-v3](https://gymnasium.farama.org/environments/toy_text/taxi/)\n",
    "\n",
    "###📚 RL-Библиотеки:\n",
    "\n",
    "- Python и NumPy\n",
    "- [Gymnasium](https://gymnasium.farama.org/)\n",
    "\n",
    "Мы постоянно стараемся улучшить наши руководства, поэтому **если вы обнаружите какие-то проблемы в этом блокноте**, пожалуйста, [откройте issue в репозитории GitHub](https://github.com/huggingface/deep-rl-class/issues)."
   ]
  },
  {
   "cell_type": "markdown",
   "metadata": {
    "id": "4i6tjI2tHQ8j"
   },
   "source": [
    "## Цели этого блокнота 🏆\n",
    "\n",
    "По окончании работы над блокнотом вы будете:\n",
    "\n",
    "- Уметь использовать **Gymnasium**, библиотеку окружения.\n",
    "- Сможете написать агент Q-Обучения с нуля.\n",
    "- Сможете **выложить своего обученного агента и код на Hub** с красивым видеоповтором и оценочным баллом 🔥.\n",
    "\n",
    "\n"
   ]
  },
  {
   "cell_type": "markdown",
   "metadata": {
    "id": "viNzVbVaYvY3"
   },
   "source": [
    "## Этот блокнот взят из курса \"Глубокое обучение с подкреплением\"\n",
    "\n",
    "<img src=\"https://huggingface.co/datasets/huggingface-deep-rl-course/course-images/resolve/main/en/notebooks/deep-rl-course-illustration.jpg\" alt=\"Deep RL Course illustration\"/>"
   ]
  },
  {
   "cell_type": "markdown",
   "metadata": {
    "id": "6p5HnEefISCB"
   },
   "source": [
    "В этом бесплатном курсе вы:\n",
    "\n",
    "- 📖 Изучите глубокое обучение с подкреплением в **теории и на практике**.\n",
    "- 🧑‍💻 Научитесь **использовать известные библиотеки Deep RL**, такие как Stable Baselines3, RL Baselines3 Zoo, CleanRL и Sample Factory 2.0.\n",
    "- 🤖 Обучите **агентов в уникальных средах**\n",
    "\n",
    "Чтобы узнать больше посмотрите 📚 учебный план 👉 https://simoninithomas.github.io/deep-rl-course\n",
    "\n",
    "Не забудьте **<a href=\"http://eepurl.com/ic5ZUD\">записаться на курс</a>** (мы собираем ваш адреса электронной почты, чтобы иметь возможность **высылать вам ссылки, когда каждый модуль будет опубликован, и предоставлять вам информацию о задачах и обновлениях).**\n",
    "\n",
    "\n",
    "Лучший способ поддерживать связь - присоединиться к нашему discord-серверу, чтобы обмениваться информацией с сообществом и с нами 👉🏻 https://discord.gg/ydHrjt3WP5"
   ]
  },
  {
   "cell_type": "markdown",
   "metadata": {
    "id": "Y-mo_6rXIjRi"
   },
   "source": [
    "## Предварительные условия 🏗️\n",
    "\n",
    "Прежде чем погрузиться в блокнот, необходимо:\n",
    "\n",
    "🔲 📚 **Изучить [Q-Обучение путем чтения Блока 2](https://huggingface.co/deep-rl-course/unit2/introduction)**  🤗  "
   ]
  },
  {
   "cell_type": "markdown",
   "metadata": {
    "id": "f2ONOODsyrMU"
   },
   "source": [
    "## Небольшой обзор Q-Обучения"
   ]
  },
  {
   "cell_type": "markdown",
   "metadata": {
    "id": "V68VveLacfxJ"
   },
   "source": [
    "*Q-Обучение* **это алгоритм RL, который**:\n",
    "\n",
    "- Обучает *Q-функцию*, **функцию ценности состояния**, которая кодируется во внутренней памяти *Q-таблицей* **содержащей все значения пар \"состояние-действие \".**\n",
    "\n",
    "- При заданных состоянии и действии наша Q-функция **выполняет поиск соответствующего значения в Q-таблице.**\n",
    "    \n",
    "<img src=\"https://huggingface.co/datasets/huggingface-deep-rl-course/course-images/resolve/main/en/unit3/Q-function-2.jpg\" alt=\"Q Функция\"  width=\"100%\"/>\n",
    "\n",
    "- Когда обучение закончено, **у нас есть оптимальная Q-функция, а значит, и оптимальная Q-таблица.**\n",
    "    \n",
    "- А если у нас **оптимальная Q-функция**, то у нас\n",
    "есть оптимальная политика, так как мы **знаем для каждого состояния, какое действие лучше предпринять.**\n",
    "\n",
    "<img src=\"https://huggingface.co/datasets/huggingface-deep-rl-course/course-images/resolve/main/en/unit3/link-value-policy.jpg\" alt=\"Связь между ценностью и политикой\"  width=\"100%\"/>\n",
    "\n",
    "\n",
    "Но вначале наша **Q-таблица бесполезна, поскольку она возвращает произвольное значение для каждой пары \"состояние-действие\" (чаще всего мы инициализируем Q-таблицу значениями 0)**. Но по мере исследования среды и обновления Q-таблицы она будет давать нам все более и более точные приближения\n",
    "\n",
    "<img src=\"https://huggingface.co/datasets/huggingface-deep-rl-course/course-images/resolve/main/en/notebooks/unit2/q-learning.jpeg\" alt=\"q-learning.jpeg\" width=\"100%\"/>\n",
    "\n",
    "Это псевдокод Q-Обучения:\n",
    "\n",
    "<img src=\"https://huggingface.co/datasets/huggingface-deep-rl-course/course-images/resolve/main/en/unit3/Q-learning-2.jpg\" alt=\"Q-Обучение\" width=\"100%\"/>\n"
   ]
  },
  {
   "cell_type": "markdown",
   "metadata": {
    "id": "HEtx8Y8MqKfH"
   },
   "source": [
    "# Давайте напишем наш первый алгоритм обучения с подкреплением 🚀"
   ]
  },
  {
   "cell_type": "markdown",
   "metadata": {
    "id": "Kdxb1IhzTn0v"
   },
   "source": [
    "Для подтверждения этой практической работы в рамках [процесса сертификации](https://huggingface.co/deep-rl-course/en/unit0/introduction#certification-process), вам необходимо опубликовать обученную модель Taxi на Hub и **получить результат >= 4.5**.\n",
    "\n",
    "Чтобы узнать свой результат, перейдите в [таблицу результатов](https://huggingface.co/spaces/huggingface-projects/Deep-Reinforcement-Learning-Leaderboard) и найдите свою модель, **result = mean_reward - std of reward**\n",
    "\n",
    "Более подробную информацию о процессе сертификации можно найти в этом разделе 👉 https://huggingface.co/deep-rl-course/en/unit0/introduction#certification-process"
   ]
  },
  {
   "cell_type": "markdown",
   "metadata": {
    "id": "4gpxC1_kqUYe"
   },
   "source": [
    "## Установка зависимостей и создание виртуального дисплея 🔽\n",
    "\n",
    "В блокноте нам потребуется сгенерировать видеозапись повтора. Для этого в Colab **нужно иметь виртуальный дисплей для визуализации среды** (и, соответственно, записи кадров).\n",
    "\n",
    "Поэтому следующая ячейка установит библиотеки, создаст и запустит виртуальный дисплей 🖥\n",
    "\n",
    "Мы установим их несколько:\n",
    "\n",
    "- `gymnasium`: Содержит среды FrozenLake-v1 ⛄ и Taxi-v3 🚕.\n",
    "- `pygame`: Используется для пользовательского интерфейса FrozenLake-v1 и Taxi-v3.\n",
    "- `numpy`: Используется для работы с нашей Q-таблицей.\n",
    "\n",
    "Hugging Face Hub 🤗 работает как центральное место, где каждый может обмениваться моделями и наборами данных и проводить их исследование. В нем есть версионирование, метрики, визуализации и другие функции, которые позволят вам легко сотрудничать с другими.\n",
    "\n",
    "Все доступные модели Deep RL (если они используют Q-Обучение) можно посмотреть здесь 👉 https://huggingface.co/models?other=q-learning"
   ]
  },
  {
   "cell_type": "code",
   "execution_count": null,
   "metadata": {
    "id": "9XaULfDZDvrC"
   },
   "outputs": [],
   "source": [
    "!pip install -r https://raw.githubusercontent.com/huggingface/deep-rl-class/main/notebooks/unit2/requirements-unit2.txt"
   ]
  },
  {
   "cell_type": "code",
   "execution_count": null,
   "metadata": {
    "id": "n71uTX7qqzz2"
   },
   "outputs": [],
   "source": [
    "!sudo apt-get update\n",
    "!sudo apt-get install -y python3-opengl\n",
    "!apt install ffmpeg xvfb\n",
    "!pip3 install pyvirtualdisplay"
   ]
  },
  {
   "cell_type": "markdown",
   "metadata": {
    "id": "K6XC13pTfFiD"
   },
   "source": [
    "Чтобы убедиться в том, что новые установленные библиотеки используются, **иногда требуется перезапустить среду выполнения блокнота.** Следующая ячейка приведет к сбою **runtime, поэтому нужно будет подключиться снова и запустить код, начиная с этого места.** Благодаря этому трюку **мы сможем запустить наш виртуальный дисплей.**"
   ]
  },
  {
   "cell_type": "code",
   "execution_count": null,
   "metadata": {
    "id": "3kuZbWAkfHdg"
   },
   "outputs": [],
   "source": [
    "import os\n",
    "os.kill(os.getpid(), 9)"
   ]
  },
  {
   "cell_type": "code",
   "execution_count": null,
   "metadata": {
    "id": "DaY1N4dBrabi"
   },
   "outputs": [],
   "source": [
    "# Виртуальный дисплей\n",
    "from pyvirtualdisplay import Display\n",
    "\n",
    "virtual_display = Display(visible=0, size=(1400, 900))\n",
    "virtual_display.start()"
   ]
  },
  {
   "cell_type": "markdown",
   "metadata": {
    "id": "W-7f-Swax_9x"
   },
   "source": [
    "## Импорт пакетов 📦\n",
    "\n",
    "В дополнение к установленным библиотекам мы также используем:\n",
    "\n",
    "- `random`: Для генерации случайных чисел (которые пригодятся для эпсилон-жадной политики).\n",
    "- `imageio`: Для создания видеозаписи повтора."
   ]
  },
  {
   "cell_type": "code",
   "execution_count": null,
   "metadata": {
    "id": "VcNvOAQlysBJ"
   },
   "outputs": [],
   "source": [
    "import numpy as np\n",
    "import gymnasium as gym\n",
    "import random\n",
    "import imageio\n",
    "import os\n",
    "import tqdm\n",
    "\n",
    "import pickle5 as pickle\n",
    "from tqdm.notebook import tqdm"
   ]
  },
  {
   "cell_type": "markdown",
   "metadata": {
    "id": "xp4-bXKIy1mQ"
   },
   "source": [
    "Теперь мы готовы к написанию алгоритма Q-Обучения 🔥"
   ]
  },
  {
   "cell_type": "markdown",
   "metadata": {
    "id": "xya49aNJWVvv"
   },
   "source": [
    "# Часть 1: Frozen Lake ⛄ (версия без скольжения)"
   ]
  },
  {
   "cell_type": "markdown",
   "metadata": {
    "id": "NAvihuHdy9tw"
   },
   "source": [
    "## Создание и понимание [FrozenLake environment ⛄]((https://gymnasium.farama.org/environments/toy_text/frozen_lake/)\n",
    "---\n",
    "\n",
    "💡 Хорошей привычкой при начале использования среды является изучение ее документации\n",
    "\n",
    "👉 https://gymnasium.farama.org/environments/toy_text/frozen_lake/\n",
    "\n",
    "---\n",
    "\n",
    "Мы собираемся обучить нашего агента Q-Обучения **перемещаться из начального состояния (S) в состояние цели (G), ходя только по замороженным плиткам (F) и избегая дыр (H).**\n",
    "\n",
    "У нас может быть два размера окружения:\n",
    "\n",
    "- `map_name=\"4x4\"`: вариант сетки 4x4\n",
    "- `map_name=\"8x8\"`: вариант сетки 8x8\n",
    "\n",
    "\n",
    "The environment has two modes:\n",
    "\n",
    "- `is_slippery=False`: Агент всегда движется **в намеченном направлении**, поскольку замерзшее озеро не скользкое (детерминированное).\n",
    "- `is_slippery=True`: Агент **может не всегда двигаться в намеченном направлении** из-за скользкого характера замерзшего озера (стохастический)."
   ]
  },
  {
   "cell_type": "markdown",
   "metadata": {
    "id": "UaW_LHfS0PY2"
   },
   "source": [
    "Пока остановимся на простой, не скользкой карте 4х4.\n",
    "Мы добавляем параметр `render_mode`, который определяет, как должно быть визуализировано окружение. В нашем случае, поскольку мы **хотим записать видео с окружением в конце, нам нужно установить render_mode на rgb_array**.\n",
    "\n",
    "Как [объясняется в документации](https://gymnasium.farama.org/api/env/#gymnasium.Env.render) \"rgb_array\": возвращает один кадр, представляющий текущее состояние среды. Кадр - это np.ndarray с формой (x, y, 3), представляющий RGB-значения для пиксельного изображения размером x-на-y."
   ]
  },
  {
   "cell_type": "code",
   "execution_count": null,
   "metadata": {
    "id": "IzJnb8O3y8up"
   },
   "outputs": [],
   "source": [
    "# Создаем среду FrozenLake-v1, используя не скользкую карту 4x4 и render_mode=\"rgb_array\"\n",
    "env = gym.make() # НЕОБХОДИМО СДЕЛАТЬ используйте правильные параметры"
   ]
  },
  {
   "cell_type": "markdown",
   "metadata": {
    "id": "Ji_UrI5l2zzn"
   },
   "source": [
    "### Решение"
   ]
  },
  {
   "cell_type": "code",
   "execution_count": null,
   "metadata": {
    "id": "jNxUbPMP0akP"
   },
   "outputs": [],
   "source": [
    "env = gym.make(\"FrozenLake-v1\", map_name=\"4x4\", is_slippery=False, render_mode=\"rgb_array\")"
   ]
  },
  {
   "cell_type": "markdown",
   "metadata": {
    "id": "KASNViqL4tZn"
   },
   "source": [
    "Вы можете создать собственную пользовательскую сетку следующим образом:\n",
    "\n",
    "```python\n",
    "desc=[\"SFFF\", \"FHFH\", \"FFFH\", \"HFFG\"]\n",
    "gym.make('FrozenLake-v1', desc=desc, is_slippery=True)\n",
    "```\n",
    "\n",
    "но пока мы будем использовать среду по умолчанию."
   ]
  },
  {
   "cell_type": "markdown",
   "metadata": {
    "id": "SXbTfdeJ1Xi9"
   },
   "source": [
    "### Давайте посмотрим, как выглядит среда:\n"
   ]
  },
  {
   "cell_type": "code",
   "execution_count": null,
   "metadata": {
    "id": "ZNPG0g_UGCfh"
   },
   "outputs": [],
   "source": [
    "# Мы создаем окружение с помощью gym.make(\"<название_среды>\")- `is_slippery=False`: Агент всегда движется в намеченном направлении из-за того, что замерзшее озеро не скользкое (детерминировано).\n",
    "print(\"_____OBSERVATION SPACE_____ \\n\")\n",
    "print(\"Observation Space\", env.observation_space)\n",
    "print(\"Sample observation\", env.observation_space.sample()) # Получение случайного наблюдения"
   ]
  },
  {
   "cell_type": "markdown",
   "metadata": {
    "id": "2MXc15qFE0M9"
   },
   "source": [
    "С помощью `Observation Space Shape Discrete(16)` мы видим, что наблюдение - это целое число, представляющее **текущую позицию агента как current_row * ncols + current_col (где и row, и col начинаются с 0)**.\n",
    "\n",
    "Например, положение цели на карте 4x4 можно вычислить следующим образом: 3 * 4 + 3 = 15. Количество возможных наблюдений зависит от размера карты. **Например, карта 4х4 имеет 16 возможных наблюдений.**\n",
    "\n",
    "\n",
    "Например, вот как выглядит state = 0:\n",
    "\n",
    "<img src=\"https://huggingface.co/datasets/huggingface-deep-rl-course/course-images/resolve/main/en/notebooks/unit2/frozenlake.png\" alt=\"FrozenLake\">"
   ]
  },
  {
   "cell_type": "code",
   "execution_count": null,
   "metadata": {
    "id": "We5WqOBGLoSm"
   },
   "outputs": [],
   "source": [
    "print(\"\\n _____ACTION SPACE_____ \\n\")\n",
    "print(\"Action Space Shape\", env.action_space.n)\n",
    "print(\"Action Space Sample\", env.action_space.sample()) # Получение случайного действия"
   ]
  },
  {
   "cell_type": "markdown",
   "metadata": {
    "id": "MyxXwkI2Magx"
   },
   "source": [
    "Пространство действий (множество возможных действий агента) дискретно и имеет 4 варианта 🎮:\n",
    "- 0: ИДТИ ВЛЕВО\n",
    "- 1: ИДТИ ВНИЗ\n",
    "- 2: ИДТИ ВПРАВО\n",
    "- 3: ИДТИ ВВЕРХ\n",
    "\n",
    "Функция вознаграждения 💰:\n",
    "- Достижение цели: +1\n",
    "- Достигнута дыра: 0\n",
    "- Достигнут замерзший участок: 0"
   ]
  },
  {
   "cell_type": "markdown",
   "metadata": {
    "id": "1pFhWblk3Awr"
   },
   "source": [
    "## Создание и Инициализация Q-таблицы 🗄️\n",
    "\n",
    "(👀 Шаг 1 псевдокода)\n",
    "\n",
    "<img src=\"https://huggingface.co/datasets/huggingface-deep-rl-course/course-images/resolve/main/en/unit3/Q-learning-2.jpg\" alt=\"Q-Обучение\" width=\"100%\"/>\n",
    "\n",
    "\n",
    "Пришло время инициализировать нашу Q-таблицу! Чтобы знать, сколько строк (состояний) и столбцов (действий) использовать, нам необходимо знать пространство действий и наблюдений. Их значения стали нам известны ранее, но мы хотим получить их программным путем, чтобы наш алгоритм был обобщенным для различных сред. Gym предоставляет нам возможность сделать это с помощью: `env.action_space.n` и `env.observation_space.n`.\n"
   ]
  },
  {
   "cell_type": "code",
   "execution_count": null,
   "metadata": {
    "id": "y3ZCdluj3k0l"
   },
   "outputs": [],
   "source": [
    "state_space =\n",
    "print(\"There are \", state_space, \" possible states\")\n",
    "\n",
    "action_space =\n",
    "print(\"There are \", action_space, \" possible actions\")"
   ]
  },
  {
   "cell_type": "code",
   "execution_count": null,
   "metadata": {
    "id": "rCddoOXM3UQH"
   },
   "outputs": [],
   "source": [
    "# Создадим нашу Q-таблицу размера (state_space, action_space) и инициализируем каждое значение в 0 с помощью np.zeros. В np.zeros необходимо передать кортеж (a,b)\n",
    "def initialize_q_table(state_space, action_space):\n",
    "  Qtable =\n",
    "  return Qtable"
   ]
  },
  {
   "cell_type": "code",
   "execution_count": null,
   "metadata": {
    "id": "9YfvrqRt3jdR"
   },
   "outputs": [],
   "source": [
    "Qtable_frozenlake = initialize_q_table(state_space, action_space)"
   ]
  },
  {
   "cell_type": "markdown",
   "metadata": {
    "id": "67OdoKL63eDD"
   },
   "source": [
    "### Решение"
   ]
  },
  {
   "cell_type": "code",
   "execution_count": null,
   "metadata": {
    "id": "HuTKv3th3ohG"
   },
   "outputs": [],
   "source": [
    "state_space = env.observation_space.n\n",
    "print(\"There are \", state_space, \" possible states\")\n",
    "\n",
    "action_space = env.action_space.n\n",
    "print(\"There are \", action_space, \" possible actions\")"
   ]
  },
  {
   "cell_type": "code",
   "execution_count": null,
   "metadata": {
    "id": "lnrb_nX33fJo"
   },
   "outputs": [],
   "source": [
    "# Создадим нашу Q-таблицу размера (state_space, action_space) и инициализируем каждое значение в 0 с помощью np.zeros\n",
    "def initialize_q_table(state_space, action_space):\n",
    "  Qtable = np.zeros((state_space, action_space))\n",
    "  return Qtable"
   ]
  },
  {
   "cell_type": "code",
   "execution_count": null,
   "metadata": {
    "id": "Y0WlgkVO3Jf9"
   },
   "outputs": [],
   "source": [
    "Qtable_frozenlake = initialize_q_table(state_space, action_space)"
   ]
  },
  {
   "cell_type": "markdown",
   "metadata": {
    "id": "Atll4Z774gri"
   },
   "source": [
    "## Определение жадной политики 🤖\n",
    "\n",
    "Помните, что у нас есть две политики, поскольку Q-Обучение - это алгоритм **вне политики**. Это означает, что мы используем **различную политику для действия и обновления функции ценности.**\n",
    "\n",
    "- Эпсилон-жадная политика (политика действия)\n",
    "- Жадная политика (политика обновления)\n",
    "\n",
    "Жадная политика также будет окончательной политикой, которую мы получим после завершения обучения агента Q-Обучения. Жадная политика используется для выбора действия с помощью Q-таблицы.\n",
    "\n",
    "<img src=\"https://huggingface.co/datasets/huggingface-deep-rl-course/course-images/resolve/main/en/unit3/off-on-4.jpg\" alt=\"Q-Learning\" width=\"100%\"/>\n"
   ]
  },
  {
   "cell_type": "code",
   "execution_count": null,
   "metadata": {
    "id": "E3SCLmLX5bWG"
   },
   "outputs": [],
   "source": [
    "def greedy_policy(Qtable, state):\n",
    "  # Использование: взять действие с наибольшей ценностью состояния, действия\n",
    "  action =\n",
    "\n",
    "  return action"
   ]
  },
  {
   "cell_type": "markdown",
   "metadata": {
    "id": "B2_-8b8z5k54"
   },
   "source": [
    "#### Решение"
   ]
  },
  {
   "cell_type": "code",
   "execution_count": null,
   "metadata": {
    "id": "se2OzWGW5kYJ"
   },
   "outputs": [],
   "source": [
    "def greedy_policy(Qtable, state):\n",
    "  # Использование: взять действие с наибольшей ценностью состояния, действия\n",
    "  action = np.argmax(Qtable[state][:])\n",
    "\n",
    "  return action"
   ]
  },
  {
   "cell_type": "markdown",
   "metadata": {
    "id": "flILKhBU3yZ7"
   },
   "source": [
    "## Определение эпсилон-жадной политики 🤖\n",
    "\n",
    "Эпсилон-жадная политика - это политика обучения, которая позволяет найти компромисс между исследованием и использованием.\n",
    "\n",
    "Идея эпсилон-жадности:\n",
    "\n",
    "- С *вероятностью 1 - ɛ* : **мы осуществляем использование** (т.е. наш агент выбирает действие с наибольшим значением пары состояние-действие).\n",
    "\n",
    "- При *вероятности ɛ*: **исследование** (выбор случайного действия).\n",
    "\n",
    "По мере обучения мы постепенно **уменьшаем значение эпсилон, поскольку нам требуется все меньше и меньше исследовать и все больше использовать.**\n",
    "\n",
    "<img src=\"https://huggingface.co/datasets/huggingface-deep-rl-course/course-images/resolve/main/en/unit3/Q-learning-4.jpg\" alt=\"Q-Обучение\" width=\"100%\"/>\n"
   ]
  },
  {
   "cell_type": "code",
   "execution_count": null,
   "metadata": {
    "id": "6Bj7x3in3_Pq"
   },
   "outputs": [],
   "source": [
    "def epsilon_greedy_policy(Qtable, state, epsilon):\n",
    "  # Случайным образом генерируем число от 0 до 1\n",
    "  random_num =\n",
    "  # если random_num > больше epsilon --> использование\n",
    "  if random_num > epsilon:\n",
    "    # Выполним действие, имеющее наибольшую ценность при заданном состоянии\n",
    "    # np.argmax может быть полезен здесь\n",
    "    action =\n",
    "  # else --> исследование\n",
    "  else:\n",
    "    action = # Выберем случайное действие\n",
    "\n",
    "  return action"
   ]
  },
  {
   "cell_type": "markdown",
   "metadata": {
    "id": "8R5ej1fS4P2V"
   },
   "source": [
    "#### Solution"
   ]
  },
  {
   "cell_type": "code",
   "execution_count": null,
   "metadata": {
    "id": "cYxHuckr4LiG"
   },
   "outputs": [],
   "source": [
    "def epsilon_greedy_policy(Qtable, state, epsilon):\n",
    "  # Случайным образом генерируем число от 0 до 1\n",
    "  random_num = random.uniform(0,1)\n",
    "  # если random_num > больше epsilon --> использование\n",
    "  if random_num > epsilon:\n",
    "     # Выполним действие, имеющее наибольшую ценность при заданном состоянии\n",
    "    # np.argmax может быть полезен здесь\n",
    "    action = greedy_policy(Qtable, state)\n",
    "  # else --> исследование\n",
    "  else:\n",
    "    action = env.action_space.sample()\n",
    "\n",
    "  return action"
   ]
  },
  {
   "cell_type": "markdown",
   "metadata": {
    "id": "hW80DealcRtu"
   },
   "source": [
    "## Определение гиперпараметров ⚙️\n",
    "\n",
    "Гиперпараметры, связанные с исследованием, являются одними из наиболее важных.\n",
    "\n",
    "- Мы должны быть уверены, что наш агент **достаточно исследует пространство состояний**, чтобы научиться хорошей аппроксимации значений. Для этого необходимо обеспечить постепенное уменьшение эпсилон.\n",
    "- Если уменьшать эпсилон слишком быстро (слишком высокая скорость decay_rate), то **вы рискуете, что ваш агент застрянет**, поскольку он не провел достаточное исследование пространства состояний и, следовательно, не сможет решить задачу."
   ]
  },
  {
   "cell_type": "code",
   "execution_count": null,
   "metadata": {
    "id": "Y1tWn0tycWZ1"
   },
   "outputs": [],
   "source": [
    "# Параметры обучения\n",
    "n_training_episodes = 10000  # Общее количество тренировочных эпизодов\n",
    "learning_rate = 0.7          # Скорость обучения\n",
    "\n",
    "# Параметры оценки\n",
    "n_eval_episodes = 100        # Общее количество тестовых эпизодов\n",
    "\n",
    "# Параметры среды\n",
    "env_id = \"FrozenLake-v1\"     # Название среды\n",
    "max_steps = 99               # Максимальное количество шагов в эпизоде\n",
    "gamma = 0.95                 # Скорость дисконтирования\n",
    "eval_seed = []               # Оценочный параметр seed для среды\n",
    "\n",
    "# Параметры исследования\n",
    "max_epsilon = 1.0             # Вероятность исследования при старте\n",
    "min_epsilon = 0.05            # Минимальная вероятность исследования\n",
    "decay_rate = 0.0005           # Экспоненциальная скорость убывания вероятности исследования"
   ]
  },
  {
   "cell_type": "markdown",
   "metadata": {
    "id": "cDb7Tdx8atfL"
   },
   "source": [
    "## Создание метода обучающего цикла\n",
    "\n",
    "<img src=\"https://huggingface.co/datasets/huggingface-deep-rl-course/course-images/resolve/main/en/unit3/Q-learning-2.jpg\" alt=\"Q-Learning\" width=\"100%\"/>\n",
    "\n",
    "Цикл обучения выглядит следующим образом:\n",
    "\n",
    "```\n",
    "Для каждого эпизода в общем количестве эпизодов обучения:\n",
    "\n",
    "Уменьшить эпсилон (поскольку нам требуется все меньше и меньше исследований)\n",
    "Сбросить настройки среды\n",
    "\n",
    "  For step in max timesteps:    \n",
    "    Выбор действия At с использованием эпсилон-жадной политики\n",
    "    Выполнить действие (a) и наблюдать за состоянием результата (s') и вознаграждением (r)\n",
    "    Обновить Q-значение Q(s,a), используя уравнение Беллмана Q(s,a) + lr [R(s,a) + gamma * max Q(s',a') - Q(s,a)]\n",
    "    Если выполнено, то завершить эпизод.\n",
    "    Наше следующее состояние - это новое состояние\n",
    "```"
   ]
  },
  {
   "cell_type": "code",
   "execution_count": null,
   "metadata": {
    "id": "paOynXy3aoJW"
   },
   "outputs": [],
   "source": [
    "def train(n_training_episodes, min_epsilon, max_epsilon, decay_rate, env, max_steps, Qtable):\n",
    "  for episode in tqdm(range(n_training_episodes)):\n",
    "    # Уменьшаем эпсилон (потому что нам нужно все меньше и меньше исследовать)\n",
    "    epsilon = min_epsilon + (max_epsilon - min_epsilon)*np.exp(-decay_rate*episode)\n",
    "    # Сбросим настройки среды\n",
    "    state, info = env.reset()\n",
    "    step = 0\n",
    "    terminated = False\n",
    "    truncated = False\n",
    "\n",
    "    # повторяем\n",
    "    for step in range(max_steps):\n",
    "      # Выбираем действие At с помощью эпсилон-жадной политики\n",
    "      action =\n",
    "\n",
    "      # Выполняем действие At и наблюдаем Rt+1 и St+1\n",
    "      # Выполняем действие (a) и наблюдаем за состоянием результата (s') и вознаграждением (r)\n",
    "      new_state, reward, terminated, truncated, info =\n",
    "\n",
    "      # Обновляем Q(s,a):= Q(s,a) + lr [R(s,a) + gamma * max Q(s',a') - Q(s,a)]\n",
    "      Qtable[state][action] =\n",
    "\n",
    "      # В случае terminated или truncated завершаем эпизод\n",
    "      if terminated or truncated:\n",
    "        break\n",
    "\n",
    "      # Наше следующее состояние - это новое состояние\n",
    "      state = new_state\n",
    "  return Qtable"
   ]
  },
  {
   "cell_type": "markdown",
   "metadata": {
    "id": "Pnpk2ePoem3r"
   },
   "source": [
    "### Решение"
   ]
  },
  {
   "cell_type": "code",
   "execution_count": null,
   "metadata": {
    "id": "IyZaYbUAeolw"
   },
   "outputs": [],
   "source": [
    "def train(n_training_episodes, min_epsilon, max_epsilon, decay_rate, env, max_steps, Qtable):\n",
    "  for episode in tqdm(range(n_training_episodes)):\n",
    "    # Уменьшаем эпсилон (потому что нам нужно все меньше и меньше исследовать)\n",
    "    epsilon = min_epsilon + (max_epsilon - min_epsilon)*np.exp(-decay_rate*episode)\n",
    "    # Сбросим настройки среды\n",
    "    state, info = env.reset()\n",
    "    step = 0\n",
    "    terminated = False\n",
    "    truncated = False\n",
    "\n",
    "    # повторяем\n",
    "    for step in range(max_steps):\n",
    "      # Выбираем действие At с помощью эпсилон-жадной политики\n",
    "      action = epsilon_greedy_policy(Qtable, state, epsilon)\n",
    "\n",
    "      # Выполняем действие At и наблюдаем Rt+1 и St+1\n",
    "      # Выполняем действие (a) и наблюдаем за состоянием результата (s') и вознаграждением (r)\n",
    "      new_state, reward, terminated, truncated, info = env.step(action)\n",
    "\n",
    "      # Обновляем Q(s,a):= Q(s,a) + lr [R(s,a) + gamma * max Q(s',a') - Q(s,a)]\n",
    "      Qtable[state][action] = Qtable[state][action] + learning_rate * (reward + gamma * np.max(Qtable[new_state]) - Qtable[state][action])\n",
    "\n",
    "      # В случае terminated или truncated завершаем эпизод\n",
    "      if terminated or truncated:\n",
    "        break\n",
    "\n",
    "      # Наше следующее состояние - это новое состояние\n",
    "      state = new_state\n",
    "  return Qtable"
   ]
  },
  {
   "cell_type": "markdown",
   "metadata": {
    "id": "WLwKQ4tUdhGI"
   },
   "source": [
    "##  Обучение агента Q-Обучения 🏃"
   ]
  },
  {
   "cell_type": "code",
   "execution_count": null,
   "metadata": {
    "id": "DPBxfjJdTCOH"
   },
   "outputs": [],
   "source": [
    "Qtable_frozenlake = train(n_training_episodes, min_epsilon, max_epsilon, decay_rate, env, max_steps, Qtable_frozenlake)"
   ]
  },
  {
   "cell_type": "markdown",
   "metadata": {
    "id": "yVeEhUCrc30L"
   },
   "source": [
    "## Давайте посмотрим, как теперь выглядит наша таблица Q-Обучения 👀"
   ]
  },
  {
   "cell_type": "code",
   "execution_count": null,
   "metadata": {
    "id": "nmfchsTITw4q"
   },
   "outputs": [],
   "source": [
    "Qtable_frozenlake"
   ]
  },
  {
   "cell_type": "markdown",
   "metadata": {
    "id": "pUrWkxsHccXD"
   },
   "source": [
    "## Метод оценки 📝\n",
    "\n",
    "- Мы определили метод оценки, который будем использовать для тестирования нашего агента Q-Обучения."
   ]
  },
  {
   "cell_type": "code",
   "execution_count": null,
   "metadata": {
    "id": "jNl0_JO2cbkm"
   },
   "outputs": [],
   "source": [
    "def evaluate_agent(env, max_steps, n_eval_episodes, Q, seed):\n",
    "  \"\"\"\n",
    "  Оценивает агента за ``n_eval_episodes`` эпизодов и возвращает стандартное отклонение вознаграждения и среднее вознаграждение.\n",
    "  :param env: Среда для проведение оценки\n",
    "  :param max_steps: Максимальное количество шагов в одном эпизоде\n",
    "  :param n_eval_episodes: Количество эпизодов для оценки агента\n",
    "  :param Q: Q-таблица\n",
    "  :param seed: Массив seed для проведения оценки (for taxi-v3)\n",
    "  \"\"\"\n",
    "  episode_rewards = []\n",
    "  for episode in tqdm(range(n_eval_episodes)):\n",
    "    if seed:\n",
    "      state, info = env.reset(seed=seed[episode])\n",
    "    else:\n",
    "      state, info = env.reset()\n",
    "    step = 0\n",
    "    truncated = False\n",
    "    terminated = False\n",
    "    total_rewards_ep = 0\n",
    "\n",
    "    for step in range(max_steps):\n",
    "      # Выполним действие (индекс), имеющее максимальное ожидаемое будущее вознаграждение с учетом данного состояния\n",
    "      action = greedy_policy(Q, state)\n",
    "      new_state, reward, terminated, truncated, info = env.step(action)\n",
    "      total_rewards_ep += reward\n",
    "\n",
    "      if terminated or truncated:\n",
    "        break\n",
    "      state = new_state\n",
    "    episode_rewards.append(total_rewards_ep)\n",
    "  mean_reward = np.mean(episode_rewards)\n",
    "  std_reward = np.std(episode_rewards)\n",
    "\n",
    "  return mean_reward, std_reward"
   ]
  },
  {
   "cell_type": "markdown",
   "metadata": {
    "id": "0jJqjaoAnxUo"
   },
   "source": [
    "## Оценка нашего агента Q-Обучения 📈\n",
    "\n",
    "- Обычно среднее вознаграждение должно быть равно 1,0.\n",
    "- С **окружением все относительно просто**, поскольку пространство состояний очень мало (16). Можно попытаться сделать следующее [заменить на версию со скольжением](https://www.gymlibrary.dev/environments/toy_text/frozen_lake/), что вносит стохастичность, усложняя среду."
   ]
  },
  {
   "cell_type": "code",
   "execution_count": null,
   "metadata": {
    "id": "fAgB7s0HEFMm"
   },
   "outputs": [],
   "source": [
    "# Оценка нашего агента\n",
    "mean_reward, std_reward = evaluate_agent(env, max_steps, n_eval_episodes, Qtable_frozenlake, eval_seed)\n",
    "print(f\"Mean_reward={mean_reward:.2f} +/- {std_reward:.2f}\")"
   ]
  },
  {
   "cell_type": "markdown",
   "metadata": {
    "id": "yxaP3bPdg1DV"
   },
   "source": [
    "## Публикация обученной модели на Hub 🔥\n",
    "\n",
    "Теперь, когда мы увидели хорошие результаты после обучения, **мы можем опубликовать нашу обученную модель на Hub 🤗 с помощью одной строки кода**.\n",
    "\n",
    "Вот пример карточки модели:\n",
    "\n",
    "<img src=\"https://huggingface.co/datasets/huggingface-deep-rl-course/course-images/resolve/main/en/notebooks/unit2/modelcard.png\" alt=\"Карточка модели\" width=\"100%\"/>\n"
   ]
  },
  {
   "cell_type": "markdown",
   "metadata": {
    "id": "kv0k1JQjpMq3"
   },
   "source": [
    "Под капотом Hub использует репозитории на основе git (не волнуйтесь, если вы не знаете, что такое git), что означает, что вы можете обновлять модель новыми версиями по мере проведения экспериментов и совершенствования своего агента."
   ]
  },
  {
   "cell_type": "markdown",
   "metadata": {
    "id": "QZ5LrR-joIHD"
   },
   "source": [
    "#### Не модифицируйте этот код"
   ]
  },
  {
   "cell_type": "code",
   "execution_count": null,
   "metadata": {
    "id": "Jex3i9lZ8ksX"
   },
   "outputs": [],
   "source": [
    "from huggingface_hub import HfApi, snapshot_download\n",
    "from huggingface_hub.repocard import metadata_eval_result, metadata_save\n",
    "\n",
    "from pathlib import Path\n",
    "import datetime\n",
    "import json"
   ]
  },
  {
   "cell_type": "code",
   "execution_count": null,
   "metadata": {
    "id": "Qo57HBn3W74O"
   },
   "outputs": [],
   "source": [
    "def record_video(env, Qtable, out_directory, fps=1):\n",
    "  \"\"\"\n",
    "  Генерация видео с воспроизведением действий агента\n",
    "  :param env\n",
    "  :param Qtable: Qtable нашего агента\n",
    "  :param out_directory\n",
    "  :param fps: сколько кадров в секунду (в taxi-v3 и frozenlake-v1 мы используем 1)\n",
    "  \"\"\"\n",
    "  images = []\n",
    "  terminated = False\n",
    "  truncated = False\n",
    "  state, info = env.reset(seed=random.randint(0,500))\n",
    "  img = env.render()\n",
    "  images.append(img)\n",
    "  while not terminated or truncated:\n",
    "    # Выполняем действие (индекс), имеющее максимальное ожидаемое будущее вознаграждение с учетом данного состояния\n",
    "    action = np.argmax(Qtable[state][:])\n",
    "    state, reward, terminated, truncated, info = env.step(action) # Мы напрямую ставим next_state = state для логики записи\n",
    "    img = env.render()\n",
    "    images.append(img)\n",
    "  imageio.mimsave(out_directory, [np.array(img) for i, img in enumerate(images)], fps=fps)"
   ]
  },
  {
   "cell_type": "code",
   "execution_count": null,
   "metadata": {
    "id": "U4mdUTKkGnUd"
   },
   "outputs": [],
   "source": [
    "def push_to_hub(\n",
    "    repo_id, model, env, video_fps=1, local_repo_path=\"hub\"\n",
    "):\n",
    "    \"\"\"\n",
    "    Оценивает, генерирует видео и загрузить модель в Hugging Face Hub.\n",
    "    Этот метод выполняет полный цикл:\n",
    "    - Оценивает модель\n",
    "    - Генерирует карточку модели\n",
    "    - Генерирует видео с воспроизведением действий агента\n",
    "    - передает все в Hub\n",
    "\n",
    "    :param repo_id: repo_id: id репозитория модели в Hugging Face Hub\n",
    "    :param env\n",
    "    :param video_fps: количество кадров в секунду для записи нашего видео\n",
    "    (в taxi-v3 и frozenlake-v1 мы используем 1)\n",
    "    :param local_repo_path: где находится локальный репозиторий\n",
    "    \"\"\"\n",
    "\n",
    "    \n",
    "    _, repo_name = repo_id.split(\"/\")\n",
    "\n",
    "    eval_env = env\n",
    "    api = HfApi()\n",
    "\n",
    "    # Шаг 1: Создание репозитория\n",
    "    repo_url = api.create_repo(\n",
    "        repo_id=repo_id,\n",
    "        exist_ok=True,\n",
    "    )\n",
    "\n",
    "    # Шаг 2: Загрузка файлов\n",
    "    repo_local_path = Path(snapshot_download(repo_id=repo_id))\n",
    "\n",
    "    # Шаг 3: Сохранение модели\n",
    "    if env.spec.kwargs.get(\"map_name\"):\n",
    "        model[\"map_name\"] = env.spec.kwargs.get(\"map_name\")\n",
    "        if env.spec.kwargs.get(\"is_slippery\", \"\") == False:\n",
    "            model[\"slippery\"] = False\n",
    "\n",
    "    # Создание Pickle файла model\n",
    "    with open((repo_local_path) / \"q-learning.pkl\", \"wb\") as f:\n",
    "        pickle.dump(model, f)\n",
    "\n",
    "    # Шаг 4: Оценка модели и создание JSON с метриками оценки\n",
    "    mean_reward, std_reward = evaluate_agent(\n",
    "        eval_env, model[\"max_steps\"], model[\"n_eval_episodes\"], model[\"qtable\"], model[\"eval_seed\"]\n",
    "    )\n",
    "\n",
    "    evaluate_data = {\n",
    "        \"env_id\": model[\"env_id\"],\n",
    "        \"mean_reward\": mean_reward,\n",
    "        \"n_eval_episodes\": model[\"n_eval_episodes\"],\n",
    "        \"eval_datetime\": datetime.datetime.now().isoformat()\n",
    "    }\n",
    "\n",
    "    # Запись JSON-файла с именем \"results.json\", который будет содержать\n",
    "    # результаты оценки\n",
    "    with open(repo_local_path / \"results.json\", \"w\") as outfile:\n",
    "        json.dump(evaluate_data, outfile)\n",
    "\n",
    "    # Шаг 5: Создание карточки модели\n",
    "    env_name = model[\"env_id\"]\n",
    "    if env.spec.kwargs.get(\"map_name\"):\n",
    "        env_name += \"-\" + env.spec.kwargs.get(\"map_name\")\n",
    "\n",
    "    if env.spec.kwargs.get(\"is_slippery\", \"\") == False:\n",
    "        env_name += \"-\" + \"no_slippery\"\n",
    "\n",
    "    metadata = {}\n",
    "    metadata[\"tags\"] = [env_name, \"q-learning\", \"reinforcement-learning\", \"custom-implementation\"]\n",
    "\n",
    "    # Добавление метрик\n",
    "    eval = metadata_eval_result(\n",
    "        model_pretty_name=repo_name,\n",
    "        task_pretty_name=\"reinforcement-learning\",\n",
    "        task_id=\"reinforcement-learning\",\n",
    "        metrics_pretty_name=\"mean_reward\",\n",
    "        metrics_id=\"mean_reward\",\n",
    "        metrics_value=f\"{mean_reward:.2f} +/- {std_reward:.2f}\",\n",
    "        dataset_pretty_name=env_name,\n",
    "        dataset_id=env_name,\n",
    "    )\n",
    "\n",
    "    # Объединение обоих словарей\n",
    "    metadata = {**metadata, **eval}\n",
    "\n",
    "    model_card = f\"\"\"\n",
    "  # **Q-Learning** Agent playing1 **{env_id}**\n",
    "  This is a trained model of a **Q-Learning** agent playing **{env_id}** .\n",
    "\n",
    "  ## Usage\n",
    "\n",
    "  ```python\n",
    "\n",
    "  model = load_from_hub(repo_id=\"{repo_id}\", filename=\"q-learning.pkl\")\n",
    "\n",
    "  # Don't forget to check if you need to add additional attributes (is_slippery=False etc)\n",
    "  env = gym.make(model[\"env_id\"])\n",
    "  ```\n",
    "  \"\"\"\n",
    "\n",
    "    evaluate_agent(env, model[\"max_steps\"], model[\"n_eval_episodes\"], model[\"qtable\"], model[\"eval_seed\"])\n",
    "\n",
    "    readme_path = repo_local_path / \"README.md\"\n",
    "    readme = \"\"\n",
    "    print(readme_path.exists())\n",
    "    if readme_path.exists():\n",
    "        with readme_path.open(\"r\", encoding=\"utf8\") as f:\n",
    "            readme = f.read()\n",
    "    else:\n",
    "        readme = model_card\n",
    "\n",
    "    with readme_path.open(\"w\", encoding=\"utf-8\") as f:\n",
    "        f.write(readme)\n",
    "\n",
    "    # Сохранение наших метрик в метаданных Readme\n",
    "    metadata_save(readme_path, metadata)\n",
    "\n",
    "    # Шаг 6: Запись видео\n",
    "    video_path = repo_local_path / \"replay.mp4\"\n",
    "    record_video(env, model[\"qtable\"], video_path, video_fps)\n",
    "\n",
    "    # Шаг 7. Загрзука всего в Hub\n",
    "    api.upload_folder(\n",
    "        repo_id=repo_id,\n",
    "        folder_path=repo_local_path,\n",
    "        path_in_repo=\".\",\n",
    "    )\n",
    "\n",
    "    print(\"Your model is pushed to the Hub. You can view your model here: \", repo_url)"
   ]
  },
  {
   "cell_type": "markdown",
   "metadata": {
    "id": "81J6cet_ogSS"
   },
   "source": [
    "### .\n",
    "\n",
    "Используя `push_to_hub` **вы оцениваете, записываете реплей, генерируете карточку модели вашего агента и отправляете ее в Hub**.\n",
    "\n",
    "Таким образом:\n",
    "- Вы можете **продемонстрировать нашу работу** 🔥\n",
    "- Вы можете **визуализировать своего агента в игре** 👀\n",
    "- Вы можете **поделиться агентом с сообществом, чтобы другие могли использовать его** 💾\n",
    "- Вы можете **зайти в таблицу результатов 🏆 и посмотреть, насколько хорошо ваш агент играет по сравнению с вашими одногруппниками** 👉 https://huggingface.co/spaces/huggingface-projects/Deep-Reinforcement-Learning-Leaderboard\n"
   ]
  },
  {
   "cell_type": "markdown",
   "metadata": {
    "id": "cWnFC0iZooTw"
   },
   "source": [
    "Чтобы получить возможность поделиться своей моделью с сообществом, необходимо выполнить еще три шага:\n",
    "\n",
    "1️⃣ (Если это еще не сделано) создать учетную запись на HF ➡ https://huggingface.co/join\n",
    "\n",
    "2️⃣ Войдите в систему, после чего необходимо сохранить токен аутентификации с сайта Hugging Face.\n",
    "- Создайте новый токен (https://huggingface.co/settings/tokens) **с ролью write**\n",
    "\n",
    "\n",
    "<img src=\"https://huggingface.co/datasets/huggingface-deep-rl-course/course-images/resolve/main/en/notebooks/create-token.jpg\" alt=\"Создание токена HF\">\n"
   ]
  },
  {
   "cell_type": "code",
   "execution_count": null,
   "metadata": {
    "id": "QB5nIcxR8paT"
   },
   "outputs": [],
   "source": [
    "from huggingface_hub import notebook_login\n",
    "notebook_login()"
   ]
  },
  {
   "cell_type": "markdown",
   "metadata": {
    "id": "GyWc1x3-o3xG"
   },
   "source": [
    "Если вы не хотите использовать Google Colab или Jupyter Notebook, то вместо этого необходимо использовать следующую команду: `huggingface-cli login` (или `login`)"
   ]
  },
  {
   "cell_type": "markdown",
   "metadata": {
    "id": "Gc5AfUeFo3xH"
   },
   "source": [
    "3️⃣ Теперь мы готовы передать нашего обученного агента в 🤗Hub🔥 с помощью функции function\n",
    "\n",
    "- Создадим **словарь модели, содержащий гиперпараметры и таблицу Q_table**."
   ]
  },
  {
   "cell_type": "code",
   "execution_count": null,
   "metadata": {
    "id": "FiMqxqVHg0I4"
   },
   "outputs": [],
   "source": [
    "model = {\n",
    "    \"env_id\": env_id,\n",
    "    \"max_steps\": max_steps,\n",
    "    \"n_training_episodes\": n_training_episodes,\n",
    "    \"n_eval_episodes\": n_eval_episodes,\n",
    "    \"eval_seed\": eval_seed,\n",
    "\n",
    "    \"learning_rate\": learning_rate,\n",
    "    \"gamma\": gamma,\n",
    "\n",
    "    \"max_epsilon\": max_epsilon,\n",
    "    \"min_epsilon\": min_epsilon,\n",
    "    \"decay_rate\": decay_rate,\n",
    "\n",
    "    \"qtable\": Qtable_frozenlake\n",
    "}"
   ]
  },
  {
   "cell_type": "markdown",
   "metadata": {
    "id": "9kld-AEso3xH"
   },
   "source": [
    "Заполним функцию `push_to_hub`:\n",
    "\n",
    "- `repo_id`: имя репозитория Hugging Face Hub, который будет создан/обновлен `\n",
    "(repo_id = {username}/{repo_name})`\n",
    "💡 Хороший вариант `repo_id` это `{username}/q-{env_id}`\n",
    "- `model`: словарь нашей модели, содержащий гиперпараметры и Q таблицу.\n",
    "- `env`: среда.\n",
    "- `commit_message`: сообщение о выполнении фиксации"
   ]
  },
  {
   "cell_type": "code",
   "execution_count": null,
   "metadata": {
    "id": "5sBo2umnXpPd"
   },
   "outputs": [],
   "source": [
    "model"
   ]
  },
  {
   "cell_type": "code",
   "execution_count": null,
   "metadata": {
    "id": "RpOTtSt83kPZ"
   },
   "outputs": [],
   "source": [
    "username = \"\" # FILL THIS\n",
    "repo_name = \"q-FrozenLake-v1-4x4-noSlippery\"\n",
    "push_to_hub(\n",
    "    repo_id=f\"{username}/{repo_name}\",\n",
    "    model=model,\n",
    "    env=env)"
   ]
  },
  {
   "cell_type": "markdown",
   "metadata": {
    "id": "E2875IGsprzq"
   },
   "source": [
    "Поздравляем 🥳 Вы только что реализовали с нуля, обучили и загрузили свой первый агент обучения с подкреплением.\n",
    "FrozenLake-v1 no_slippery - очень простая среда, давайте попробуем более сложную 🔥."
   ]
  },
  {
   "cell_type": "markdown",
   "metadata": {
    "id": "18lN8Bz7yvLt"
   },
   "source": [
    "# Часть 2: Taxi-v3 🚖\n",
    "\n",
    "## Создание и понимание [Taxi-v3 🚕](https://gymnasium.farama.org/environments/toy_text/taxi/)\n",
    "---\n",
    "\n",
    "💡 Хорошей привычкой при начале использования среды является изучение ее документации\n",
    "\n",
    "👉 https://gymnasium.farama.org/environments/toy_text/taxi/\n",
    "\n",
    "---\n",
    "\n",
    "В игре `Taxi-v3` 🚕 есть четыре определенных места в сетчатом мире, обозначаемые R(ed), G(reen), Y(ellow) и B(lue).\n",
    "\n",
    "В начале эпизода **такси стартует из случайного квадрата**, а пассажир находится в случайном месте. Такси доезжает до места нахождения пассажира, **забирает пассажира**, доезжает до места назначения (другого из четырех указанных мест), а затем **высаживает пассажира**. После того как пассажир высажен, эпизод заканчивается.\n",
    "\n",
    "\n",
    "<img src=\"https://huggingface.co/datasets/huggingface-deep-rl-course/course-images/resolve/main/en/notebooks/unit2/taxi.png\" alt=\"Taxi\">\n"
   ]
  },
  {
   "cell_type": "code",
   "execution_count": null,
   "metadata": {
    "id": "gL0wpeO8gpej"
   },
   "outputs": [],
   "source": [
    "env = gym.make(\"Taxi-v3\", render_mode=\"rgb_array\")"
   ]
  },
  {
   "cell_type": "markdown",
   "metadata": {
    "id": "gBOaXgtsrmtT"
   },
   "source": [
    "Существует **500 дискретных состояний, поскольку имеется 25 позиций такси, 5 возможных мест нахождения пассажира** (включая случай, когда пассажир находится в такси) и **4 места назначения.**\n"
   ]
  },
  {
   "cell_type": "code",
   "execution_count": null,
   "metadata": {
    "id": "_TPNaGSZrgqA"
   },
   "outputs": [],
   "source": [
    "state_space = env.observation_space.n\n",
    "print(\"There are \", state_space, \" possible states\")"
   ]
  },
  {
   "cell_type": "code",
   "execution_count": null,
   "metadata": {
    "id": "CdeeZuokrhit"
   },
   "outputs": [],
   "source": [
    "action_space = env.action_space.n\n",
    "print(\"There are \", action_space, \" possible actions\")"
   ]
  },
  {
   "cell_type": "markdown",
   "metadata": {
    "id": "R1r50Advrh5Q"
   },
   "source": [
    "Пространство действий (множество возможных действий агента) дискретно и имеет **6 доступных действий 🎮**:\n",
    "\n",
    "- 0: двигаться на юг\n",
    "- 1: двигаться на север\n",
    "- 2: двигаться на восток\n",
    "- 3: перемещение на запад\n",
    "- 4: забрать пассажира\n",
    "- 5: высадить пассажира\n",
    "\n",
    "Функция вознаграждения 💰:\n",
    "\n",
    "- -1 за шаг, если не сработало другое вознаграждение.\n",
    "- +20 за доставку пассажира.\n",
    "- -10 неправомерное выполнение действий \"забрать\" и \"высадить\"."
   ]
  },
  {
   "cell_type": "code",
   "execution_count": null,
   "metadata": {
    "id": "US3yDXnEtY9I"
   },
   "outputs": [],
   "source": [
    "# Create our Q table with state_size rows and action_size columns (500x6)\n",
    "Qtable_taxi = initialize_q_table(state_space, action_space)\n",
    "print(Qtable_taxi)\n",
    "print(\"Q-table shape: \", Qtable_taxi .shape)"
   ]
  },
  {
   "cell_type": "markdown",
   "metadata": {
    "id": "gUMKPH0_LJyH"
   },
   "source": [
    "## Определение гиперпараметров ⚙️\n",
    "\n",
    "⚠ НЕ МОДИФИЦИРУЙТЕ EVAL_SEED: массив eval_seed **позволяет нам оценить вашего агента с одинаковыми стартовыми позициями такси для каждого однокурсника**"
   ]
  },
  {
   "cell_type": "code",
   "execution_count": null,
   "metadata": {
    "id": "AB6n__hhg7YS"
   },
   "outputs": [],
   "source": [
    "# Параметры обучения\n",
    "n_training_episodes = 25000   # Общее количество тренировочных эпизодов\n",
    "learning_rate = 0.7           # Скорость обучения\n",
    "\n",
    "# Evaluation parameters\n",
    "n_eval_episodes = 100        # Общее количество тестовых эпизодов\n",
    "\n",
    "# НЕ МОДИФИЦИРУЙТЕ EVAL_SEED\n",
    "eval_seed = [16,54,165,177,191,191,120,80,149,178,48,38,6,125,174,73,50,172,100,148,146,6,25,40,68,148,49,167,9,97,164,176,61,7,54,55,\n",
    " 161,131,184,51,170,12,120,113,95,126,51,98,36,135,54,82,45,95,89,59,95,124,9,113,58,85,51,134,121,169,105,21,30,11,50,65,12,43,82,145,152,97,106,55,31,85,38,\n",
    " 112,102,168,123,97,21,83,158,26,80,63,5,81,32,11,28,148]   # Evaluation seed, гарантирует, что все агенты одногруппников будут обучены для одной и той же стартовой позиции такси\n",
    "                                                            # Каждое значение seed имеет определенное начальное состояние\n",
    "# Параметры среды\n",
    "env_id = \"Taxi-v3\"           # Название среды\n",
    "max_steps = 99               # Максимальное количество шагов в одном эпизоде\n",
    "gamma = 0.95                 # Дисконтирование\n",
    "\n",
    "# Exploration parameters\n",
    "max_epsilon = 1.0             # Вероятность исследования на начальном этапе\n",
    "min_epsilon = 0.05            # Минимальная вероятность исследования\n",
    "decay_rate = 0.005            # Экспоненциальная скорость спада для вероятности исследования\n"
   ]
  },
  {
   "cell_type": "markdown",
   "metadata": {
    "id": "1TMORo1VLTsX"
   },
   "source": [
    "## Обучение агента Q-Обучения 🏃"
   ]
  },
  {
   "cell_type": "code",
   "execution_count": null,
   "metadata": {
    "id": "WwP3Y2z2eS-K"
   },
   "outputs": [],
   "source": [
    "Qtable_taxi = train(n_training_episodes, min_epsilon, max_epsilon, decay_rate, env, max_steps, Qtable_taxi)\n",
    "Qtable_taxi"
   ]
  },
  {
   "cell_type": "markdown",
   "metadata": {
    "id": "wPdu0SueLVl2"
   },
   "source": [
    "## Создание словаря модели 💾 и публикация нашей обученной модели в Hub 🔥\n",
    "\n",
    "- Мы создаем словарь модели, который будет содержать все обучающие гиперпараметры для воспроизведения и Q-таблицу.\n"
   ]
  },
  {
   "cell_type": "code",
   "execution_count": null,
   "metadata": {
    "id": "0a1FpE_3hNYr"
   },
   "outputs": [],
   "source": [
    "model = {\n",
    "    \"env_id\": env_id,\n",
    "    \"max_steps\": max_steps,\n",
    "    \"n_training_episodes\": n_training_episodes,\n",
    "    \"n_eval_episodes\": n_eval_episodes,\n",
    "    \"eval_seed\": eval_seed,\n",
    "\n",
    "    \"learning_rate\": learning_rate,\n",
    "    \"gamma\": gamma,\n",
    "\n",
    "    \"max_epsilon\": max_epsilon,\n",
    "    \"min_epsilon\": min_epsilon,\n",
    "    \"decay_rate\": decay_rate,\n",
    "\n",
    "    \"qtable\": Qtable_taxi\n",
    "}"
   ]
  },
  {
   "cell_type": "code",
   "execution_count": null,
   "metadata": {
    "id": "dhQtiQozhOn1"
   },
   "outputs": [],
   "source": [
    "username = \"\" # FILL THIS\n",
    "repo_name = \"\" # FILL THIS\n",
    "push_to_hub(\n",
    "    repo_id=f\"{username}/{repo_name}\",\n",
    "    model=model,\n",
    "    env=env)"
   ]
  },
  {
   "cell_type": "markdown",
   "metadata": {
    "id": "ZgSdjgbIpRti"
   },
   "source": [
    "Теперь, когда модель появилась на Hub, вы можете сравнить результаты своего Taxi-v3 с одногруппниками, используя таблицу результатов  🏆 👉 https://huggingface.co/spaces/huggingface-projects/Deep-Reinforcement-Learning-Leaderboard\n",
    "\n",
    "\n",
    "<img src=\"https://huggingface.co/datasets/huggingface-deep-rl-course/course-images/resolve/main/en/notebooks/unit2/taxi-leaderboard.png\" alt=\"Taxi Leaderboard\">"
   ]
  },
  {
   "cell_type": "markdown",
   "metadata": {
    "id": "bzgIO70c0bu2"
   },
   "source": [
    "# Часть 3: Загрузка с Hub 🔽\n",
    "\n",
    "Что удивительно в Hugging Face Hub 🤗, так это то, что вы можете легко загружать мощные модели из сообщества.\n",
    "\n",
    "Загрузить сохраненную модель из Hub очень просто:\n",
    "\n",
    "1. Перейдите по ссылке https://huggingface.co/models?other=q-learning, чтобы увидеть список всех сохраненных моделей Q-Обучения.\n",
    "2. Выберите одну из них и скопируйте ее repo_id\n",
    "\n",
    "<img src=\"https://huggingface.co/datasets/huggingface-deep-rl-course/course-images/resolve/main/en/notebooks/unit2/copy-id.png\" alt=\"Copy id\">"
   ]
  },
  {
   "cell_type": "markdown",
   "metadata": {
    "id": "gTth6thRoC6X"
   },
   "source": [
    "3. Затем нужно просто использовать `load_from_hub` с:\n",
    "- repo_id\n",
    "- Именем файла: сохраненной модели внутри репозитория."
   ]
  },
  {
   "cell_type": "markdown",
   "metadata": {
    "id": "EtrfoTaBoNrd"
   },
   "source": [
    "#### Не модифицируйте этот код"
   ]
  },
  {
   "cell_type": "code",
   "execution_count": null,
   "metadata": {
    "id": "Eo8qEzNtCaVI"
   },
   "outputs": [],
   "source": [
    "from urllib.error import HTTPError\n",
    "\n",
    "from huggingface_hub import hf_hub_download\n",
    "\n",
    "\n",
    "def load_from_hub(repo_id: str, filename: str) -> str:\n",
    "    \"\"\"\n",
    "    Загрузка модели из Hugging Face Hub.\n",
    "    :param repo_id: идентификатор репозитория модели из Hugging Face Hub\n",
    "    :param filename: имя zip-файла модели из репозитория\n",
    "    \"\"\"\n",
    "    # Получаем модель с Hub, загружаем и кэшируем модель на локальном диске\n",
    "    pickle_model = hf_hub_download(\n",
    "        repo_id=repo_id,\n",
    "        filename=filename\n",
    "    )\n",
    "\n",
    "    with open(pickle_model, 'rb') as f:\n",
    "      downloaded_model_file = pickle.load(f)\n",
    "\n",
    "    return downloaded_model_file"
   ]
  },
  {
   "cell_type": "markdown",
   "metadata": {
    "id": "b_sM2gNioPZH"
   },
   "source": [
    "### ."
   ]
  },
  {
   "cell_type": "code",
   "execution_count": null,
   "metadata": {
    "id": "JUm9lz2gCQcU"
   },
   "outputs": [],
   "source": [
    "model = load_from_hub(repo_id=\"ThomasSimonini/q-Taxi-v3\", filename=\"q-learning.pkl\") # Попробуйте использовать другую модель\n",
    "\n",
    "print(model)\n",
    "env = gym.make(model[\"env_id\"])\n",
    "\n",
    "evaluate_agent(env, model[\"max_steps\"], model[\"n_eval_episodes\"], model[\"qtable\"], model[\"eval_seed\"])"
   ]
  },
  {
   "cell_type": "code",
   "execution_count": null,
   "metadata": {
    "id": "O7pL8rg1MulN"
   },
   "outputs": [],
   "source": [
    "model = load_from_hub(repo_id=\"ThomasSimonini/q-FrozenLake-v1-no-slippery\", filename=\"q-learning.pkl\") # Попробуйте использовать другую модель\n",
    "\n",
    "env = gym.make(model[\"env_id\"], is_slippery=False)\n",
    "\n",
    "evaluate_agent(env, model[\"max_steps\"], model[\"n_eval_episodes\"], model[\"qtable\"], model[\"eval_seed\"])"
   ]
  },
  {
   "cell_type": "markdown",
   "metadata": {
    "id": "BQAwLnYFPk-s"
   },
   "source": [
    "## Некоторые дополнительные задачи 🏆\n",
    "\n",
    "Лучший способ научиться **это попробовать все самому**! Как вы видели, текущий агент работает не очень хорошо. В качестве первого предложения можно потренироваться на большем количестве шагов. С 1 000 000 шагов мы увидели отличные результаты!\n",
    "\n",
    "В [Таблице результатов](https://huggingface.co/spaces/huggingface-projects/Deep-Reinforcement-Learning-Leaderboard) вы найдете своих агентов. Сможете ли вы добраться до вершины??\n",
    "\n",
    "Вот несколько идей, как подняться выше в таблице результатов:\n",
    "\n",
    "* Больше тренироваться\n",
    "* Попробуйте различные гиперпараметры, посмотрев, что сделали ваши одногруппники.\n",
    "* **Выложите свою новую обученную модель** на Hub 🔥.\n",
    "\n",
    "Ходить по льду и ездить на такси слишком скучно для вас? Попробуйте **сменить обстановку**, почему бы не использовать версию FrozenLake-v1 со скольжением? Проверьте, как она работает [с помощью документации gymnasium](https://gymnasium.farama.org/) и получайте удовольствие 🎉."
   ]
  },
  {
   "cell_type": "markdown",
   "metadata": {
    "id": "p-fW-EU5WejJ"
   },
   "source": [
    "_____________________________________________________________________\n",
    "Поздравляем 🥳, вы только что реализовали, обучили и загрузили своего первого агента обучения с подкреплением.\n",
    "\n",
    "Понимание Q-Обучения - это **важный шаг к пониманию методов, основанных на ценности.**\n",
    "\n",
    "В следующем разделе, посвященном Глубокому Q-Обучению, мы увидим, что создание и обновление Q-таблицы было хорошей стратегией - **но, однако, она не масштабируется.**\n",
    "\n",
    "Например, представьте, что вы создаете агента, который учится играть в Doom.\n",
    "\n",
    "<img src=\"https://vizdoom.cs.put.edu.pl/user/pages/01.tutorial/basic.png\" alt=\"Doom\"/>\n",
    "\n",
    "Doom - это большая среда с огромным пространством состояний (миллионы различных состояний). Создавать и обновлять Q-таблицу для такой среды было бы неэффективно.\n",
    "\n",
    "Поэтому в следующем блоке мы изучим Глубокое Q-Обучение - алгоритм, **в котором мы используем нейронную сеть, аппроксимирующую, учитывая состояние, различные Q-значения для каждого действия.**\n",
    "\n",
    "<img src=\"https://huggingface.co/datasets/huggingface-deep-rl-course/course-images/resolve/main/en/unit4/atari-envs.gif\" alt=\"Environments\"/>\n"
   ]
  },
  {
   "cell_type": "markdown",
   "metadata": {
    "id": "BjLhT70TEZIn"
   },
   "source": [
    "До встречи в Блоке 3! 🔥\n",
    "\n",
    "## Продолжайте учиться, оставайтесь потрясающими 🤗"
   ]
  }
 ],
 "metadata": {
  "colab": {
   "collapsed_sections": [
    "67OdoKL63eDD",
    "B2_-8b8z5k54",
    "8R5ej1fS4P2V",
    "Pnpk2ePoem3r"
   ],
   "include_colab_link": true,
   "private_outputs": true,
   "provenance": []
  },
  "gpuClass": "standard",
  "kernelspec": {
   "display_name": "Python 3 (ipykernel)",
   "language": "python",
   "name": "python3"
  },
  "language_info": {
   "codemirror_mode": {
    "name": "ipython",
    "version": 3
   },
   "file_extension": ".py",
   "mimetype": "text/x-python",
   "name": "python",
   "nbconvert_exporter": "python",
   "pygments_lexer": "ipython3",
   "version": "3.10.12"
  }
 },
 "nbformat": 4,
 "nbformat_minor": 4
}
