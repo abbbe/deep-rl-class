{
 "cells": [
  {
   "cell_type": "markdown",
   "metadata": {
    "colab_type": "text",
    "id": "view-in-github"
   },
   "source": [
    "<a href=\"https://colab.research.google.com/github/huggingface/deep-rl-class/blob/main/notebooks/unit3.ipynb\" target=\"_parent\"><img src=\"https://colab.research.google.com/assets/colab-badge.svg\" alt=\"Open In Colab\"/></a>"
   ]
  },
  {
   "cell_type": "markdown",
   "metadata": {
    "id": "k7xBVPzoXxOg"
   },
   "source": [
    "# Unit 3: Глубокое Q-Обучение с помощью игр Atari 👾 с использованием RL Baselines3 Zoo\n",
    "\n",
    "<img src=\"https://huggingface.co/datasets/huggingface-deep-rl-course/course-images/resolve/main/en/unit4/thumbnail.jpg\" alt=\"Блок 3 Миниатюра\">\n",
    "\n",
    "В этом блокноте **вы обучите агента Глубокого Q-Обучения**, играющего в Space Invaders, используя [RL Baselines3 Zoo](https://github.com/DLR-RM/rl-baselines3-zoo), обучающий фреймворк, основанный на [Stable-Baselines3](https://stable-baselines3.readthedocs.io/en/master/), который предоставляет скрипты для обучения и оценки агентов, оптимизации гиперпараметров, построения графиков результатов и записи видео.\n",
    "\n",
    "Мы используем интеграцию [RL-Baselines-3 Zoo, ванильную версию Deep Q-Learning](https://stable-baselines3.readthedocs.io/en/master/modules/dqn.html) без расширений, таких как Double-DQN, Dueling-DQN и Prioritized Experience Replay.\n",
    "\n",
    "⬇️ Вот пример того, чего **вы сможете достичь**. ⬇️"
   ]
  },
  {
   "cell_type": "code",
   "execution_count": 1,
   "metadata": {
    "id": "J9S713biXntc"
   },
   "outputs": [
    {
     "data": {
      "text/html": [
       "<video controls autoplay><source src=\"https://huggingface.co/ThomasSimonini/ppo-SpaceInvadersNoFrameskip-v4/resolve/main/replay.mp4\" type=\"video/mp4\"></video>\n"
      ],
      "text/plain": [
       "<IPython.core.display.HTML object>"
      ]
     },
     "metadata": {},
     "output_type": "display_data"
    }
   ],
   "source": [
    "%%html\n",
    "<video controls autoplay><source src=\"https://huggingface.co/ThomasSimonini/ppo-SpaceInvadersNoFrameskip-v4/resolve/main/replay.mp4\" type=\"video/mp4\"></video>"
   ]
  },
  {
   "cell_type": "markdown",
   "metadata": {
    "id": "ykJiGevCMVc5"
   },
   "source": [
    "### 🎮 Среды: \n",
    "\n",
    "- [SpacesInvadersNoFrameskip-v4](https://gymnasium.farama.org/environments/atari/space_invaders/)\n",
    "\n",
    "Разницу между версиями Space Invaders можно увидеть здесь 👉 https://gymnasium.farama.org/environments/atari/space_invaders/#variants\n",
    "\n",
    "### 📚 RL-библиотека: \n",
    "\n",
    "- [RL-Baselines3-Zoo](https://github.com/DLR-RM/rl-baselines3-zoo)"
   ]
  },
  {
   "cell_type": "markdown",
   "metadata": {
    "id": "wciHGjrFYz9m"
   },
   "source": [
    "## Задачи этого блокнота 🏆\n",
    "В конце блокнота вы сможете:\n",
    "- Сможете глубже понять **как работает RL Baselines3 Zoo**.\n",
    "- Сможете **выложить своего обученного агента и код на Hub** с красивым видеоповтором и оценкой 🔥.\n",
    "\n",
    "\n"
   ]
  },
  {
   "cell_type": "markdown",
   "metadata": {
    "id": "TsnP0rjxMn1e"
   },
   "source": [
    "## Этот ноутбук взят из курса \"Глубокое обучение с подкреплением\".\n",
    "<img src=\"https://huggingface.co/datasets/huggingface-deep-rl-course/course-images/resolve/main/en/notebooks/deep-rl-course-illustration.jpg\" alt=\"Deep RL Course illustration\"/>"
   ]
  },
  {
   "cell_type": "markdown",
   "metadata": {
    "id": "nw6fJHIAZd-J"
   },
   "source": [
    "В этом бесплатном курсе вы:\n",
    "\n",
    "- 📖 Изучите глубокое обучение с подкреплением в **теории и на практике**.\n",
    "- 🧑‍💻 Научитесь **использовать известные библиотеки Deep RL**, такие как Stable Baselines3, RL Baselines3 Zoo, CleanRL и Sample Factory 2.0.\n",
    "- 🤖 Обучите **агентов в уникальных средах**.  \n",
    "\n",
    "Чтобы узнать больше посмотрите 📚 учебный план 👉 https://simoninithomas.github.io/deep-rl-course\n",
    "\n",
    "Не забудьте **<a href=\"http://eepurl.com/ic5ZUD\">записаться на курс</a>** (мы собираем ваш адреса электронной почты, чтобы иметь возможность **высылать вам ссылки, когда каждый модуль будет опубликован, и предоставлять вам информацию о задачах и обновлениях).**\n",
    "\n",
    "\n",
    "Лучший способ поддерживать связь - присоединиться к нашему discord-серверу, чтобы обмениваться информацией с сообществом и с нами 👉🏻 https://discord.gg/ydHrjt3WP5"
   ]
  },
  {
   "cell_type": "markdown",
   "metadata": {
    "id": "0vgANIBBZg1p"
   },
   "source": [
    "## Предварительные условия 🏗️\n",
    "\n",
    "Прежде чем погрузиться в ноутбук, необходимо:\n",
    "\n",
    "🔲 📚 **[Изучить Глубокое Q-Обучение, прочитав Блок 3](https://huggingface.co/deep-rl-course/unit3/introduction)**  🤗 "
   ]
  },
  {
   "cell_type": "markdown",
   "metadata": {
    "id": "7kszpGFaRVhq"
   },
   "source": [
    "Мы постоянно стараемся улучшить наши руководства, поэтому **если вы обнаружите какие-то проблемы в этом блокноте**, пожалуйста, [откройте issue на репозитории Github](https://github.com/huggingface/deep-rl-class/issues)."
   ]
  },
  {
   "cell_type": "markdown",
   "metadata": {
    "id": "QR0jZtYreSI5"
   },
   "source": [
    "# Давайте обучим агента с Глубоким Q-Обучением игре в Space Invaders от Atari 👾 и загрузим его в Hub.\n",
    "\n",
    "Мы настоятельно рекомендуем студентам **использовать Google Colab для проведения практических занятий, а не запускать их на своих персональных компьютерах**.\n",
    "\n",
    "Использование Google Colab **позволяет сосредоточиться на обучении и экспериментах, не заботясь о технических аспектах настройки среды**.\n",
    "\n",
    "Чтобы подтвердить практическое занятие для сертификации, необходимо загрузить обученную модель в Hub и **получить результат >= 200**.\n",
    "\n",
    "Чтобы узнать свой результат, зайдите в таблицу лидеров и найдите свою модель, **result = mean_reward - std of reward**\n",
    "\n",
    "Более подробную информацию о процессе сертификации можно найти в этом разделе 👉 https://huggingface.co/deep-rl-course/en/unit0/introduction#certification-process"
   ]
  },
  {
   "cell_type": "markdown",
   "metadata": {
    "id": "Nc8BnyVEc3Ys"
   },
   "source": [
    "## Совет 💡\n",
    "\n",
    "Лучше запускать этот блокнот в виде копии с Google Drive, чтобы **в случае тайм-аута** у вас оставался сохраненный блокнот на Google Drive и не нужно было заполнять все заново.\n",
    "\n",
    "Для этого можно либо нажать `Ctrl + S`, либо `File > Save a copy in Google Drive.`.\n",
    "\n",
    "Также мы собираемся **обучать модель в течение 90 минут с 1М временных шагов**. Введя `!nvidia-smi`, вы узнаете, какой GPU вы используете.\n",
    "\n",
    "А если вы хотите обучить более 10 миллионов шагов, то это займет около 9 часов, что может привести к прерыванию работы Colab из за ограничения по времени. В этом случае я рекомендую запустить его на локальном компьютере (или в другом месте). Просто щелкните на: `File>Download`."
   ]
  },
  {
   "cell_type": "markdown",
   "metadata": {
    "id": "PU4FVzaoM6fC"
   },
   "source": [
    "## Настройка GPU 💪.\n",
    "- Чтобы **ускорить обучение агента, мы будем использовать GPU**. Для этого перейдите в меню `Runtime > Change Runtime type`.\n",
    "\n",
    "<img src=\"https://huggingface.co/datasets/huggingface-deep-rl-course/course-images/resolve/main/en/notebooks/gpu-step1.jpg\" alt=\"GPU Шаг 1\">"
   ]
  },
  {
   "cell_type": "markdown",
   "metadata": {
    "id": "KV0NyFdQM9ZG"
   },
   "source": [
    "- `Hardware Accelerator > GPU`\n",
    "\n",
    "<img src=\"https://huggingface.co/datasets/huggingface-deep-rl-course/course-images/resolve/main/en/notebooks/gpu-step2.jpg\" alt=\"GPU Step 2\">"
   ]
  },
  {
   "cell_type": "markdown",
   "metadata": {
    "id": "wS_cVefO-aYg"
   },
   "source": [
    "# Установка RL-Baselines3 Zoo и его зависимостей 📚\n",
    "\n",
    "Если вы видите сообщение `ERROR: pip's dependency resolver does not currently take account all the packages that are installed.` **это нормально и не является критической ошибкой**, это конфликт версий. Но нужные нам пакеты установлены."
   ]
  },
  {
   "cell_type": "code",
   "execution_count": null,
   "metadata": {
    "id": "hLTwHqIWdnPb"
   },
   "outputs": [],
   "source": [
    "# На данный момент мы устанавливаем это обновление RL-Baselines3 Zoo\n",
    "!pip install git+https://github.com/DLR-RM/rl-baselines3-zoo@update/hf"
   ]
  },
  {
   "cell_type": "markdown",
   "metadata": {
    "id": "p0xe2sJHdtHy"
   },
   "source": [
    "В ТОМ И ТОЛЬКО В ТОМ СЛУЧАЕ, ЕСЛИ ВЫШЕУКАЗАННАЯ ВЕРСИЯ БОЛЬШЕ НЕ СУЩЕСТВУЕТ. РАСКОММЕНТИРУЙТЕ И УСТАНОВИТЕ ПРИВЕДЕННУЮ НИЖЕ ВЕРСИЮ"
   ]
  },
  {
   "cell_type": "code",
   "execution_count": null,
   "metadata": {
    "id": "N0d6wy-F-f39"
   },
   "outputs": [],
   "source": [
    "#!pip install rl_zoo3==2.0.0a9"
   ]
  },
  {
   "cell_type": "code",
   "execution_count": null,
   "metadata": {
    "id": "8_MllY6Om1eI"
   },
   "outputs": [],
   "source": [
    "!apt-get install swig cmake ffmpeg"
   ]
  },
  {
   "cell_type": "markdown",
   "metadata": {
    "id": "4S9mJiKg6SqC"
   },
   "source": [
    "Чтобы иметь возможность использовать игры Atari в Gymnasium, нам необходимо установить пакет atari. И accept-rom-license для загрузки rom-файлов (файлов игр)."
   ]
  },
  {
   "cell_type": "code",
   "execution_count": null,
   "metadata": {
    "id": "NsRP-lX1_2fC"
   },
   "outputs": [],
   "source": [
    "!pip install gymnasium[atari]\n",
    "!pip install gymnasium[accept-rom-license]"
   ]
  },
  {
   "cell_type": "markdown",
   "metadata": {
    "id": "bTpYcVZVMzUI"
   },
   "source": [
    "## Создание виртуального дисплея 🔽.\n",
    "\n",
    "В процессе работы с блокнотом нам потребуется создать видеозапись повтора. Для этого, с помощью Colab, **нам необходимо иметь виртуальный экран, чтобы иметь возможность визуализировать среду** (и, соответственно, записывать фреймы). \n",
    "\n",
    "Поэтому в следующей ячейке мы установим библиотеки, создадим и запустим виртуальный экран 🖥."
   ]
  },
  {
   "cell_type": "code",
   "execution_count": null,
   "metadata": {
    "id": "jV6wjQ7Be7p5"
   },
   "outputs": [],
   "source": [
    "%%capture\n",
    "!apt install python-opengl\n",
    "!apt install ffmpeg\n",
    "!apt install xvfb\n",
    "!pip3 install pyvirtualdisplay"
   ]
  },
  {
   "cell_type": "code",
   "execution_count": null,
   "metadata": {
    "id": "BE5JWP5rQIKf"
   },
   "outputs": [],
   "source": [
    "# Виртуальный дисплей\n",
    "from pyvirtualdisplay import Display\n",
    "\n",
    "virtual_display = Display(visible=0, size=(1400, 900))\n",
    "virtual_display.start()"
   ]
  },
  {
   "cell_type": "markdown",
   "metadata": {
    "id": "5iPgzluo9z-u"
   },
   "source": [
    "## Обучение нашего агента с Глубоким Q-Обучением игре в Space Invaders 👾\n",
    "\n",
    "Чтобы обучить агента с помощью RL-Baselines3-Zoo, нам нужно сделать всего две вещи:\n",
    "\n",
    "1. Создать файл конфигурации гиперпараметров, который будет содержать наши обучающие гиперпараметры, под названием `dqn.yml`.\n",
    "\n",
    "Это пример шаблона:\n",
    "\n",
    "```\n",
    "SpaceInvadersNoFrameskip-v4:\n",
    "  env_wrapper:\n",
    "    - stable_baselines3.common.atari_wrappers.AtariWrapper\n",
    "  frame_stack: 4\n",
    "  policy: 'CnnPolicy'\n",
    "  n_timesteps: !!float 1e7\n",
    "  buffer_size: 100000\n",
    "  learning_rate: !!float 1e-4\n",
    "  batch_size: 32\n",
    "  learning_starts: 100000\n",
    "  target_update_interval: 1000\n",
    "  train_freq: 4\n",
    "  gradient_steps: 1\n",
    "  exploration_fraction: 0.1\n",
    "  exploration_final_eps: 0.01\n",
    "  # If True, you need to deactivate handle_timeout_termination\n",
    "  # in the replay_buffer_kwargs\n",
    "  optimize_memory_usage: False\n",
    "```"
   ]
  },
  {
   "cell_type": "markdown",
   "metadata": {
    "id": "_VjblFSVDQOj"
   },
   "source": [
    "Здесь мы видим следующее:\n",
    "- Мы используем `Atari Wrapper` для предварительной обработки входного сигнала (уменьшение кадра, задания режима grayscale, стэкирования 4 фреймов).\n",
    "- Мы используем `CnnPolicy`, поскольку для обработки кадров мы используем сверточные слои\n",
    "- Обучение проводится на 10 миллионах `n_timesteps`. \n",
    "- Размер памяти (Повтор опыта, Experience Replay) - 100000, т.е. количество шагов опыта, которое вы сохранили для повторного обучения агента.\n",
    "\n",
    "💡 Мой совет - **сократить количество шагов обучения до 1M,** что займет около 90 минут на P100. `!nvidia-smi` подскажет, какой GPU вы используете. При 10 миллионов шагов это займет около 9 часов, что может привести к завершению работы Colab по timing out. Я рекомендую запустить эту программу на локальном компьютере (или в другом месте). Просто щелкните на: `File>Download`. "
   ]
  },
  {
   "cell_type": "markdown",
   "metadata": {
    "id": "5qTkbWrkECOJ"
   },
   "source": [
    "С точки зрения оптимизации гиперпараметров, мой совет - сосредоточиться на этих 3 гиперпараметрах:\n",
    "- `learning_rate`\n",
    "- `buffer_size (\"Размер памяти опыта\")`.\n",
    "- `batch_size`\n",
    "\n",
    "В качестве хорошей практики необходимо **посмотреть документацию, чтобы понять, что делает каждый гиперпараметр**: https://stable-baselines3.readthedocs.io/en/master/modules/dqn.html#parameters\n",
    "\n"
   ]
  },
  {
   "cell_type": "markdown",
   "metadata": {
    "id": "Hn8bRTHvERRL"
   },
   "source": [
    "2. Запускаем обучение и сохраняем модели в папке `logs` 📁.\n",
    "\n",
    "- Определяем алгоритм после `--algo`, задаём путь сохранения модели после `-f` и определяем конфигурацию гиперпараметров после `-c`."
   ]
  },
  {
   "cell_type": "code",
   "execution_count": null,
   "metadata": {
    "id": "Xr1TVW4xfbz3"
   },
   "outputs": [],
   "source": [
    "!python -m rl_zoo3.train --algo ________ --env SpaceInvadersNoFrameskip-v4  -f _________  -c _________"
   ]
  },
  {
   "cell_type": "markdown",
   "metadata": {
    "id": "SeChoX-3SZfP"
   },
   "source": [
    "#### Решение"
   ]
  },
  {
   "cell_type": "code",
   "execution_count": null,
   "metadata": {
    "id": "PuocgdokSab9"
   },
   "outputs": [],
   "source": [
    "!python -m rl_zoo3.train --algo dqn  --env SpaceInvadersNoFrameskip-v4 -f logs/ -c dqn.yml"
   ]
  },
  {
   "cell_type": "markdown",
   "metadata": {
    "id": "_dLomIiMKQaf"
   },
   "source": [
    "## Давайте оценим нашего агента 👀.\n",
    "- RL-Baselines3-Zoo предоставляет `enjoy.py`, скрипт на языке python для оценки нашего агента. В большинстве библиотек RL мы называем сценарий оценки `enjoy.py`.\n",
    "- Давайте оценим его на 5000 временных шагах 🔥."
   ]
  },
  {
   "cell_type": "code",
   "execution_count": null,
   "metadata": {
    "id": "co5um_KeKbBJ"
   },
   "outputs": [],
   "source": [
    "!python -m rl_zoo3.enjoy  --algo dqn  --env SpaceInvadersNoFrameskip-v4  --no-render  --n-timesteps _________  --folder logs/ "
   ]
  },
  {
   "cell_type": "markdown",
   "metadata": {
    "id": "Q24K1tyWSj7t"
   },
   "source": [
    "#### Решение"
   ]
  },
  {
   "cell_type": "code",
   "execution_count": null,
   "metadata": {
    "id": "P_uSmwGRSk0z"
   },
   "outputs": [],
   "source": [
    "!python -m rl_zoo3.enjoy  --algo dqn  --env SpaceInvadersNoFrameskip-v4  --no-render  --n-timesteps 5000  --folder logs/"
   ]
  },
  {
   "cell_type": "markdown",
   "metadata": {
    "id": "liBeTltiHJtr"
   },
   "source": [
    "## Публикация обученной модели на Hub 🚀.\n",
    "Теперь, когда мы увидели, что получили хорошие результаты после обучения, мы можем опубликовать нашу обученную модель на Hub 🤗 с помощью одной строки кода.\n",
    "\n",
    "<img src=\"https://huggingface.co/datasets/huggingface-deep-rl-course/course-images/resolve/main/en/notebooks/unit3/space-invaders-model.gif\" alt=\"Модель Space Invaders\">"
   ]
  },
  {
   "cell_type": "markdown",
   "metadata": {
    "id": "ezbHS1q3HYVV"
   },
   "source": [
    "Используя `rl_zoo3.push_to_hub` **вы оцениваете, записываете реплей, генерируете карточку модели вашего агента и отправляете ее в Hub**.\n",
    "\n",
    "Таким образом:\n",
    "- Вы можете **показать нашу работу** 🔥.\n",
    "- Вы можете **визуализировать игру вашего агента** 👀.\n",
    "- Вы можете **поделиться с сообществом агентом, который может быть использован другими** 💾\n",
    "- Вы можете **зайти в таблицу результатов 🏆 и посмотреть, насколько хорошо ваш агент играет по сравнению с вашими одногруппниками** 👉  https://huggingface.co/spaces/huggingface-projects/Deep-Reinforcement-Learning-Leaderboard"
   ]
  },
  {
   "cell_type": "markdown",
   "metadata": {
    "id": "XMSeZRBiHk6X"
   },
   "source": [
    "Чтобы получить возможность поделиться своей моделью с сообществом, необходимо выполнить еще три шага:\n",
    "\n",
    "1️⃣ (Если это еще не было сделано) создайте учетную запись  HF ➡ https://huggingface.co/join\n",
    "\n",
    "2️⃣ Выполните авторизацию, а затем сохраните свой токен аутентификации с сайта Hugging Face.\n",
    "- Создайте новый токен (https://huggingface.co/settings/tokens) **с ролью write**.\n",
    "\n",
    "<img src=\"https://huggingface.co/datasets/huggingface-deep-rl-course/course-images/resolve/main/en/notebooks/create-token.jpg\" alt=\"Создание токена HF\">"
   ]
  },
  {
   "cell_type": "markdown",
   "metadata": {
    "id": "9O6FI0F8HnzE"
   },
   "source": [
    "- Скопируйте токен \n",
    "- Выполните ячейку ниже и вставьте токен"
   ]
  },
  {
   "cell_type": "code",
   "execution_count": null,
   "metadata": {
    "id": "Ppu9yePwHrZX"
   },
   "outputs": [],
   "source": [
    "from huggingface_hub import notebook_login # Войдите в нашу учетную запись Hugging Face, чтобы иметь возможность загружать модели в Hub.\n",
    "notebook_login()\n",
    "!git config --global credential.helper store"
   ]
  },
  {
   "cell_type": "markdown",
   "metadata": {
    "id": "2RVEdunPHs8B"
   },
   "source": [
    "Если вы не хотите использовать Google Colab или Jupyter Notebook, то вместо этого необходимо использовать данную команду: `huggingface-cli login`"
   ]
  },
  {
   "cell_type": "markdown",
   "metadata": {
    "id": "dSLwdmvhHvjw"
   },
   "source": [
    "3️⃣ We're now ready to push our trained agent to the 🤗 Hub 🔥"
   ]
  },
  {
   "cell_type": "markdown",
   "metadata": {
    "id": "PW436XnhHw1H"
   },
   "source": [
    "Запустим файл push_to_hub.py для загрузки нашего обученного агента в Hub.\n",
    "\n",
    "`--repo-name`: Имя репозитория\n",
    "\n",
    "`-orga`: Ваше имя пользователя Hugging Face\n",
    "\n",
    "`-f`: Папка, в которой находится обученная модель (в нашем случае `logs`)\n",
    "\n",
    "<img src=\"https://huggingface.co/datasets/huggingface-deep-rl-course/course-images/resolve/main/en/notebooks/unit3/select-id.png\" alt=\"Выбор Id\">"
   ]
  },
  {
   "cell_type": "code",
   "execution_count": null,
   "metadata": {
    "id": "Ygk2sEktTDEw"
   },
   "outputs": [],
   "source": [
    "!python -m rl_zoo3.push_to_hub  --algo dqn  --env SpaceInvadersNoFrameskip-v4  --repo-name _____________________ -orga _____________________ -f logs/"
   ]
  },
  {
   "cell_type": "markdown",
   "metadata": {
    "id": "otgpa0rhS9wR"
   },
   "source": [
    "#### Решение"
   ]
  },
  {
   "cell_type": "code",
   "execution_count": null,
   "metadata": {
    "id": "_HQNlAXuEhci"
   },
   "outputs": [],
   "source": [
    "!python -m rl_zoo3.push_to_hub  --algo dqn  --env SpaceInvadersNoFrameskip-v4  --repo-name dqn-SpaceInvadersNoFrameskip-v4  -orga ThomasSimonini  -f logs/"
   ]
  },
  {
   "cell_type": "markdown",
   "metadata": {
    "id": "0D4F5zsTTJ-L"
   },
   "source": [
    "###."
   ]
  },
  {
   "cell_type": "markdown",
   "metadata": {
    "id": "ff89kd2HL1_s"
   },
   "source": [
    "Поздравляем 🥳 Вы только что обучили и загрузили свой первый агент с Глубоким Q-Обучением, использующий RL-Baselines-3 Zoo. В приведенном выше скрипте должна была появиться ссылка на репозиторий моделей, например https://huggingface.co/ThomasSimonini/dqn-SpaceInvadersNoFrameskip-v4. Перейдя по этой ссылке, вы сможете:\n",
    "\n",
    "- Увидеть **видеопревью вашего агента** справа. \n",
    "- Щелкните \" Files and versions\", чтобы увидеть все файлы в репозитории.\n",
    "- Щелкните \"Use in stable-baselines3\", чтобы получить фрагмент кода, показывающий, как загрузить модель.\n",
    "- Карточка модели (файл `README.md`), в которой дается описание модели и используемых гиперпараметров.\n",
    "\n",
    "Под капотом Hub использует репозитории на основе git (не волнуйтесь, если вы не знаете, что такое git), что означает, что вы можете обновлять модель новыми версиями по мере того, как вы экспериментируете и улучшаете своего агента.\n",
    "\n",
    "**Сравнивайте результаты своих агентов с результатами своих одногруппников**, используя [таблицу результатов](https://huggingface.co/spaces/huggingface-projects/Deep-Reinforcement-Learning-Leaderboard) 🏆"
   ]
  },
  {
   "cell_type": "markdown",
   "metadata": {
    "id": "fyRKcCYY-dIo"
   },
   "source": [
    "## Загрузка мощной обученной модели 🔥.\n",
    "- Команда Stable-Baselines3 загрузила **более 150 обученных агентов глубокого обучения с подкреплением на Hub**.\n",
    "\n",
    "Вы можете найти их здесь: 👉 https://huggingface.co/sb3\n",
    "\n",
    "Некоторые примеры:\n",
    "- \"Asteroids\": https://huggingface.co/sb3/dqn-AsteroidsNoFrameskip-v4\n",
    "- Beam Rider: https://huggingface.co/sb3/dqn-BeamRiderNoFrameskip-v4\n",
    "- Breakout: https://huggingface.co/sb3/dqn-BreakoutNoFrameskip-v4\n",
    "- Road Runner: https://huggingface.co/sb3/dqn-RoadRunnerNoFrameskip-v4\n",
    "\n",
    "Загрузим агента, играющего в Beam Rider: https://huggingface.co/sb3/dqn-BeamRiderNoFrameskip-v4"
   ]
  },
  {
   "cell_type": "code",
   "execution_count": null,
   "metadata": {
    "id": "B-9QVFIROI5Y"
   },
   "outputs": [],
   "source": [
    "%%html\n",
    "<video controls autoplay><source src=\"https://huggingface.co/sb3/dqn-BeamRiderNoFrameskip-v4/resolve/main/replay.mp4\" type=\"video/mp4\"></video>"
   ]
  },
  {
   "cell_type": "markdown",
   "metadata": {
    "id": "7ZQNY_r6NJtC"
   },
   "source": [
    "1. Загружаем модель с помощью `rl_zoo3.load_from_hub` и помещаем ее в новую папку, которую можно назвать `rl_trained`"
   ]
  },
  {
   "cell_type": "code",
   "execution_count": null,
   "metadata": {
    "id": "OdBNZHy0NGTR"
   },
   "outputs": [],
   "source": [
    "# Загрузка модели и сохранение ее в папке logs/\n",
    "!python -m rl_zoo3.load_from_hub --algo dqn --env BeamRiderNoFrameskip-v4 -orga sb3 -f rl_trained/"
   ]
  },
  {
   "cell_type": "markdown",
   "metadata": {
    "id": "LFt6hmWsNdBo"
   },
   "source": [
    "2. Оценим, модель на 5000 временных шагов"
   ]
  },
  {
   "cell_type": "code",
   "execution_count": null,
   "metadata": {
    "id": "aOxs0rNuN0uS"
   },
   "outputs": [],
   "source": [
    "!python -m rl_zoo3.enjoy --algo dqn --env BeamRiderNoFrameskip-v4 -n 5000  -f rl_trained/ --no-render"
   ]
  },
  {
   "cell_type": "markdown",
   "metadata": {
    "id": "kxMDuDfPON57"
   },
   "source": [
    "Почему бы не попробовать обучить своего собственного **Агента с Глубоким Q-Обучением, играя в BeamRiderNoFrameskip-v4? 🏆.**\n",
    "\n",
    "Если хотите попробовать, посмотрите https://huggingface.co/sb3/dqn-BeamRiderNoFrameskip-v4#hyperparameters **в карточке модели есть гиперпараметры обученного агента.**"
   ]
  },
  {
   "cell_type": "markdown",
   "metadata": {
    "id": "xL_ZtUgpOuY6"
   },
   "source": [
    "Однако поиск гиперпараметров может оказаться непростой задачей. К счастью, в следующем блоке мы увидим, как можно **использовать Optuna для оптимизации гиперпараметров 🔥.**\n"
   ]
  },
  {
   "cell_type": "markdown",
   "metadata": {
    "id": "-pqaco8W-huW"
   },
   "source": [
    "## Некоторые дополнительные задачи  🏆\n",
    "Лучший способ научиться **это попробовать все самому**!\n",
    "\n",
    "В таблице результатов [Leaderboard] (https://huggingface.co/spaces/huggingface-projects/Deep-Reinforcement-Learning-Leaderboard) вы найдете своих агентов. Сможете ли вы подняться на вершину?\n",
    "\n",
    "Вот список сред, в которых вы можете попробовать обучить своего агента:\n",
    "- BeamRiderNoFrameskip-v4\n",
    "- BreakoutNoFrameskip-v4 \n",
    "- EnduroNoFrameskip-v4\n",
    "- PongNoFrameskip-v4\n",
    "\n",
    "Также, **если вы хотите научиться самостоятельно реализовывать Глубоким Q-Обучением**, вам обязательно стоит посмотреть на реализацию CleanRL: https://github.com/vwxyzjn/cleanrl/blob/master/cleanrl/dqn_atari.py\n",
    "\n",
    "<img src=\"https://huggingface.co/datasets/huggingface-deep-rl-course/course-images/resolve/main/en/unit4/atari-envs.gif\" alt=\"Среды\"/>"
   ]
  },
  {
   "cell_type": "markdown",
   "metadata": {
    "id": "paS-XKo4-kmu"
   },
   "source": [
    "________________________________________________________________________\n",
    "Поздравляю с окончанием этой части!\n",
    "\n",
    "Если вы все еще чувствуете себя сбитым с толку всеми этими элементами... это абсолютно нормально! **Так было и со мной, и со всеми, кто изучал RL.**.\n",
    "\n",
    "Потратьте время, чтобы действительно **усвоить материал, прежде чем продолжать и пробовать дополнительные задачи**. Важно освоить эти элементы и иметь прочный фундамент.\n",
    "\n",
    "В следующем блоке **мы познакомимся с [Optuna](https://optuna.org/)**. Одной из наиболее важных задач в глубоком обучении с подкреплением является поиск хорошего набора обучающих гиперпараметров. И Optuna - это библиотека, которая помогает автоматизировать этот поиск.\n",
    "\n",
    "\n"
   ]
  },
  {
   "cell_type": "markdown",
   "metadata": {
    "id": "5WRx7tO7-mvC"
   },
   "source": [
    "\n",
    "\n",
    "### Это курс, созданный с вашим участием 👷🏿‍♀️.\n",
    "\n",
    "Наконец, мы хотим итеративно улучшать и обновлять курс, учитывая ваши отзывы. Если у вас есть пожелания, пожалуйста, заполните эту форму 👉 https://forms.gle/3HgA7bEHwAmmLfwh9.\n",
    "\n",
    "Мы постоянно стараемся улучшить наши учебные пособия, поэтому **если вы обнаружили какие-то проблемы в этом блокноте**, пожалуйста, [откройте issue в репозитории Github](https://github.com/huggingface/deep-rl-class/issues)."
   ]
  },
  {
   "cell_type": "markdown",
   "metadata": {
    "id": "Kc3udPT-RcXc"
   },
   "source": [
    "До встречи во втором бонусном блоке! 🔥"
   ]
  },
  {
   "cell_type": "markdown",
   "metadata": {
    "id": "fS3Xerx0fIMV"
   },
   "source": [
    "### Продолжайте учиться, оставайтесь потрясающими 🤗"
   ]
  }
 ],
 "metadata": {
  "accelerator": "GPU",
  "colab": {
   "include_colab_link": true,
   "private_outputs": true,
   "provenance": []
  },
  "gpuClass": "standard",
  "kernelspec": {
   "display_name": "Python 3 (ipykernel)",
   "language": "python",
   "name": "python3"
  },
  "language_info": {
   "codemirror_mode": {
    "name": "ipython",
    "version": 3
   },
   "file_extension": ".py",
   "mimetype": "text/x-python",
   "name": "python",
   "nbconvert_exporter": "python",
   "pygments_lexer": "ipython3",
   "version": "3.10.12"
  },
  "varInspector": {
   "cols": {
    "lenName": 16,
    "lenType": 16,
    "lenVar": 40
   },
   "kernels_config": {
    "python": {
     "delete_cmd_postfix": "",
     "delete_cmd_prefix": "del ",
     "library": "var_list.py",
     "varRefreshCmd": "print(var_dic_list())"
    },
    "r": {
     "delete_cmd_postfix": ") ",
     "delete_cmd_prefix": "rm(",
     "library": "var_list.r",
     "varRefreshCmd": "cat(var_dic_list()) "
    }
   },
   "types_to_exclude": [
    "module",
    "function",
    "builtin_function_or_method",
    "instance",
    "_Feature"
   ],
   "window_display": false
  }
 },
 "nbformat": 4,
 "nbformat_minor": 4
}
